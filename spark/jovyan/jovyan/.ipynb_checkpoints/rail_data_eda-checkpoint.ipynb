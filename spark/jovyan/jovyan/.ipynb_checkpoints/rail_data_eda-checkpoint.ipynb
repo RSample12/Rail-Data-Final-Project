{
 "cells": [
  {
   "cell_type": "code",
   "execution_count": 1,
   "id": "dcf7e15f-4b6d-4e0e-99e8-5bf70e936eaf",
   "metadata": {},
   "outputs": [],
   "source": [
    "from pyspark.sql import SparkSession\n",
    "import pyspark.sql.functions as F\n",
    "from pyspark.sql.types import DecimalType\n",
    "\n",
    "# Creating a SparkSession\n",
    "spark = SparkSession.builder.appName(\"MySparkApp\").getOrCreate()"
   ]
  },
  {
   "cell_type": "markdown",
   "id": "ce11255b-5f7f-4d56-8848-6e2a102d3b49",
   "metadata": {},
   "source": [
    "## Read in Data"
   ]
  },
  {
   "cell_type": "code",
   "execution_count": 2,
   "id": "c30b3d88-5446-4260-8d53-d9f5761a8742",
   "metadata": {},
   "outputs": [
    {
     "name": "stdout",
     "output_type": "stream",
     "text": [
      "+---------------+---------+------------------+-------------+--------------+-----------------+--------------------+----------------------+--------------------+----------------------+----+--------+------------+-------------------+---------------------+------------------+--------------------+-----------------+\n",
      "|       route_id|unique_id|service_start_date|update_origin|train_platform|working_time_pass|working_time_arrival|working_time_departure|planned_time_arrival|planned_time_departure|pass|platform|train_length|actual_arrival_time|actual_departure_time|is_delayed_arrival|is_delayed_departure|__index_level_0__|\n",
      "+---------------+---------+------------------+-------------+--------------+-----------------+--------------------+----------------------+--------------------+----------------------+----+--------+------------+-------------------+---------------------+------------------+--------------------+-----------------+\n",
      "|202307277679020|   L79020|        2023-07-27|       Darwin|          STFD|             NULL| 2023-07-27 00:03:00|   2023-07-27 00:03:30|                NULL|                  NULL|NULL|       5|        NULL|2023-07-27 00:53:00|  2023-07-27 00:53:00|              true|                true|                8|\n",
      "|202307277679020|   L79020|        2023-07-27|       Darwin|       SPNY205|             NULL| 2023-07-27 00:07:00|   2023-07-27 00:13:30|                NULL|                  NULL|NULL|    NULL|        NULL|2023-07-27 00:57:00|  2023-07-27 00:58:00|              true|                true|               10|\n",
      "|202307277679020|   L79020|        2023-07-27|       Darwin|        PADTLL|             NULL| 2023-07-27 00:30:30|   2023-07-27 00:31:00|                NULL|                  NULL|NULL|       B|        NULL|2023-07-27 01:07:00|  2023-07-27 01:07:00|              true|                true|               16|\n",
      "|202307277679020|   L79020|        2023-07-27|       Darwin|       WBRNPKS|             NULL| 2023-07-27 00:33:00|   2023-07-27 00:35:00|                NULL|                  NULL|NULL|       A|        NULL|2023-07-27 01:09:00|  2023-07-27 01:10:00|              true|                true|               17|\n",
      "|202307277674553|   L74553|        2023-07-27|           TD|       SVNOAKS|             NULL| 2023-07-27 21:53:00|   2023-07-27 21:54:30| 2023-07-27 21:53:00|   2023-07-27 21:54:00|NULL|       1|           8|               NULL|                 NULL|             false|               false|               22|\n",
      "+---------------+---------+------------------+-------------+--------------+-----------------+--------------------+----------------------+--------------------+----------------------+----+--------+------------+-------------------+---------------------+------------------+--------------------+-----------------+\n",
      "\n"
     ]
    }
   ],
   "source": [
    "# Read in data\n",
    "df = spark.read.parquet('rail_data_cleaned_20230728132300.parquet')\n",
    "df.limit(5).show()"
   ]
  },
  {
   "cell_type": "code",
   "execution_count": 3,
   "id": "289ce475-5521-4abc-895d-c2518c489555",
   "metadata": {},
   "outputs": [
    {
     "name": "stdout",
     "output_type": "stream",
     "text": [
      "root\n",
      " |-- route_id: string (nullable = true)\n",
      " |-- unique_id: string (nullable = true)\n",
      " |-- service_start_date: string (nullable = true)\n",
      " |-- update_origin: string (nullable = true)\n",
      " |-- train_platform: string (nullable = true)\n",
      " |-- working_time_pass: timestamp_ntz (nullable = true)\n",
      " |-- working_time_arrival: timestamp_ntz (nullable = true)\n",
      " |-- working_time_departure: timestamp_ntz (nullable = true)\n",
      " |-- planned_time_arrival: timestamp_ntz (nullable = true)\n",
      " |-- planned_time_departure: timestamp_ntz (nullable = true)\n",
      " |-- pass: integer (nullable = true)\n",
      " |-- platform: string (nullable = true)\n",
      " |-- train_length: string (nullable = true)\n",
      " |-- actual_arrival_time: timestamp_ntz (nullable = true)\n",
      " |-- actual_departure_time: timestamp_ntz (nullable = true)\n",
      " |-- is_delayed_arrival: boolean (nullable = true)\n",
      " |-- is_delayed_departure: boolean (nullable = true)\n",
      " |-- __index_level_0__: long (nullable = true)\n",
      "\n"
     ]
    }
   ],
   "source": [
    "# print rows with respective datatypes\n",
    "df.printSchema()"
   ]
  },
  {
   "cell_type": "markdown",
   "id": "0f07edaf-0712-4512-9599-c7266fdb1ff0",
   "metadata": {},
   "source": [
    "## Check for Duplicate Values/ Nulls"
   ]
  },
  {
   "cell_type": "code",
   "execution_count": 4,
   "id": "85e23d76-3034-48fc-b86c-107b2eb1b117",
   "metadata": {},
   "outputs": [
    {
     "name": "stdout",
     "output_type": "stream",
     "text": [
      "+----------+\n",
      "|sum(count)|\n",
      "+----------+\n",
      "|      NULL|\n",
      "+----------+\n",
      "\n"
     ]
    }
   ],
   "source": [
    "# find duplicate rows\n",
    "df.groupBy(df.columns)\\\n",
    "    .count()\\\n",
    "    .where(F.col('count') > 1)\\\n",
    "    .select(F.sum('count'))\\\n",
    "    .show()"
   ]
  },
  {
   "cell_type": "code",
   "execution_count": 5,
   "id": "304982c4-aa35-433a-9893-9d2f3a38f337",
   "metadata": {},
   "outputs": [
    {
     "data": {
      "text/plain": [
       "{'route_id': 0,\n",
       " 'unique_id': 0,\n",
       " 'service_start_date': 0,\n",
       " 'update_origin': 585,\n",
       " 'train_platform': 0,\n",
       " 'working_time_pass': 37100,\n",
       " 'working_time_arrival': 0,\n",
       " 'working_time_departure': 0,\n",
       " 'planned_time_arrival': 3245,\n",
       " 'planned_time_departure': 3520,\n",
       " 'pass': 37100,\n",
       " 'platform': 2986,\n",
       " 'train_length': 26505,\n",
       " 'actual_arrival_time': 5331,\n",
       " 'actual_departure_time': 2716,\n",
       " 'is_delayed_arrival': 0,\n",
       " 'is_delayed_departure': 0,\n",
       " '__index_level_0__': 0}"
      ]
     },
     "execution_count": 5,
     "metadata": {},
     "output_type": "execute_result"
    }
   ],
   "source": [
    "# get a null count for all columns\n",
    "Dict_Null = {col:df.filter(df[col].isNull()).count() for col in df.columns}\n",
    "Dict_Null"
   ]
  },
  {
   "cell_type": "code",
   "execution_count": 5,
   "id": "4e0ff85d-453f-4804-996d-d8bd05f18070",
   "metadata": {},
   "outputs": [
    {
     "data": {
      "text/plain": [
       "DataFrame[route_id: string, unique_id: string, service_start_date: string, update_origin: string, train_platform: string, working_time_pass: timestamp_ntz, working_time_arrival: timestamp_ntz, working_time_departure: timestamp_ntz, planned_time_arrival: timestamp_ntz, planned_time_departure: timestamp_ntz, pass: int, platform: string, actual_arrival_time: timestamp_ntz, actual_departure_time: timestamp_ntz, is_delayed_arrival: boolean, is_delayed_departure: boolean, __index_level_0__: bigint]"
      ]
     },
     "execution_count": 5,
     "metadata": {},
     "output_type": "execute_result"
    }
   ],
   "source": [
    "# remove cols with too many null values\n",
    "df.drop('working_time_pass')\n",
    "df.drop('pass')\n",
    "df.drop('train_length')"
   ]
  },
  {
   "cell_type": "code",
   "execution_count": 6,
   "id": "b0ff3ba0-1590-4361-861e-2bace70751c4",
   "metadata": {},
   "outputs": [
    {
     "data": {
      "text/plain": [
       "33004"
      ]
     },
     "execution_count": 6,
     "metadata": {},
     "output_type": "execute_result"
    }
   ],
   "source": [
    "# drop rows with null values from the dataset\n",
    "df = df.dropna(subset='planned_time_departure')\n",
    "df = df.dropna(subset='update_origin')\n",
    "df.count()"
   ]
  },
  {
   "cell_type": "code",
   "execution_count": 7,
   "id": "9b1bc847-2ac0-4ba5-9bd1-421dc42998f0",
   "metadata": {
    "scrolled": true
   },
   "outputs": [
    {
     "name": "stdout",
     "output_type": "stream",
     "text": [
      "Unique values in route_id:\n",
      "+---------------+-----+\n",
      "|       route_id|count|\n",
      "+---------------+-----+\n",
      "|202307278024592|   40|\n",
      "|202307278023407|    2|\n",
      "|202307287142024|    8|\n",
      "|202307277684886|    4|\n",
      "|202307277623421|    3|\n",
      "|202307277159156|    1|\n",
      "|202307278931917|    2|\n",
      "|202307278932995|   10|\n",
      "|202307277679446|    4|\n",
      "|202307288076176|    8|\n",
      "|202307288075928|   36|\n",
      "|202307278027471|    5|\n",
      "|202307287195442|    1|\n",
      "|202307278070469|    5|\n",
      "|202307277683900|    1|\n",
      "|202307278929733|    1|\n",
      "|202307277683740|    2|\n",
      "|202307287159171|    1|\n",
      "|202307277194734|    1|\n",
      "|202307277674757|    1|\n",
      "+---------------+-----+\n",
      "only showing top 20 rows\n",
      "\n",
      "Unique values in unique_id:\n",
      "+---------+-----+\n",
      "|unique_id|count|\n",
      "+---------+-----+\n",
      "|   L79822|   11|\n",
      "|   G59266|    1|\n",
      "|   P25443|    2|\n",
      "|   P24503|    9|\n",
      "|   C18264|   31|\n",
      "|   C16587|    1|\n",
      "|   P71715|    3|\n",
      "|   L34352|    2|\n",
      "|   L23434|    4|\n",
      "|   G95492|   10|\n",
      "|   L23565|    1|\n",
      "|   Y31409|   21|\n",
      "|   Y30069|    1|\n",
      "|   P27235|    5|\n",
      "|   G67331|    1|\n",
      "|   Y55093|    1|\n",
      "|   P75426|    3|\n",
      "|   G81189|    1|\n",
      "|   G70054|    1|\n",
      "|   P76316|    4|\n",
      "+---------+-----+\n",
      "only showing top 20 rows\n",
      "\n",
      "Unique values in service_start_date:\n",
      "+------------------+-----+\n",
      "|service_start_date|count|\n",
      "+------------------+-----+\n",
      "|        2023-07-27|17962|\n",
      "|        2023-07-29|   56|\n",
      "|        2023-07-28|14986|\n",
      "+------------------+-----+\n",
      "\n",
      "Unique values in update_origin:\n",
      "+-------------+-----+\n",
      "|update_origin|count|\n",
      "+-------------+-----+\n",
      "|           TD|10059|\n",
      "|        Trust| 2052|\n",
      "|       Darwin| 6547|\n",
      "|  Workstation|   28|\n",
      "|       Tyrell|  283|\n",
      "|          CIS|14035|\n",
      "+-------------+-----+\n",
      "\n",
      "Unique values in train_platform:\n",
      "+--------------+-----+\n",
      "|train_platform|count|\n",
      "+--------------+-----+\n",
      "|       MRYLAND|   37|\n",
      "|       MINFORD|    5|\n",
      "|       SHENFLD|   37|\n",
      "|       BRITHDR|    3|\n",
      "|       HATHRSG|   10|\n",
      "|       HEATHHL|    7|\n",
      "|       TURKYST|   10|\n",
      "|       CLFDOWN|    5|\n",
      "|       RIDNGML|    3|\n",
      "|       HOLTONH|    4|\n",
      "|       NNRYSQU|    1|\n",
      "|       WODBDGE|    2|\n",
      "|          ELTR|   31|\n",
      "|          GTHM|   28|\n",
      "|       MCHYNLT|   12|\n",
      "|          DLTN|   22|\n",
      "|          SABR|   15|\n",
      "|       MEOLSCP|    2|\n",
      "|       SELLING|    4|\n",
      "|       STNEOTS|   18|\n",
      "+--------------+-----+\n",
      "only showing top 20 rows\n",
      "\n",
      "Unique values in platform:\n",
      "+--------+-----+\n",
      "|platform|count|\n",
      "+--------+-----+\n",
      "|      1L|    3|\n",
      "|       7|  203|\n",
      "|      1A|    7|\n",
      "|      15|   27|\n",
      "|     12A|    3|\n",
      "|      11|   67|\n",
      "|     10A|    7|\n",
      "|       3| 2756|\n",
      "|     16A|    2|\n",
      "|     16B|    1|\n",
      "|     FAL|    1|\n",
      "|     BUS|   33|\n",
      "|      8D|    3|\n",
      "|      1C|    2|\n",
      "|       8|  308|\n",
      "|      3B|   28|\n",
      "|      4B|   18|\n",
      "|      7A|    6|\n",
      "|      16|   29|\n",
      "|     15B|    3|\n",
      "+--------+-----+\n",
      "only showing top 20 rows\n",
      "\n",
      "Unique values in train_length:\n",
      "+------------+-----+\n",
      "|train_length|count|\n",
      "+------------+-----+\n",
      "|           7|   45|\n",
      "|          11|    6|\n",
      "|           3|  788|\n",
      "|           8| 2629|\n",
      "|        NULL|23403|\n",
      "|           5| 1833|\n",
      "|           6|  471|\n",
      "|           9|    5|\n",
      "|          10| 1069|\n",
      "|           4| 1376|\n",
      "|          12|  955|\n",
      "|           2|  424|\n",
      "+------------+-----+\n",
      "\n"
     ]
    }
   ],
   "source": [
    "# pyspark value_counts\n",
    "# get list of categorical var cols\n",
    "categorical_columns = [c for c in df.columns if df.select(c).dtypes[0][1] == 'string']\n",
    "\n",
    "# do a value counts for each categorical var\n",
    "for col_name in categorical_columns:\n",
    "    print(f\"Unique values in {col_name}:\")\n",
    "    df.groupBy(col_name).count().show()"
   ]
  },
  {
   "cell_type": "markdown",
   "id": "0720d9b8-0faa-4fbb-ae50-be7235039311",
   "metadata": {},
   "source": [
    "## Merge Data with Rail References"
   ]
  },
  {
   "cell_type": "code",
   "execution_count": 8,
   "id": "2d84d75d-83ac-4d14-98c6-42b40f221a64",
   "metadata": {},
   "outputs": [
    {
     "name": "stdout",
     "output_type": "stream",
     "text": [
      "root\n",
      " |-- AtcoCode: string (nullable = true)\n",
      " |-- TiplocCode: string (nullable = true)\n",
      " |-- CrsCode: string (nullable = true)\n",
      " |-- StationName: string (nullable = true)\n",
      " |-- StationNameLang: string (nullable = true)\n",
      " |-- GridType: string (nullable = true)\n",
      " |-- Easting: integer (nullable = true)\n",
      " |-- Northing: integer (nullable = true)\n",
      " |-- CreationDateTime: timestamp (nullable = true)\n",
      " |-- ModificationDateTime: timestamp (nullable = true)\n",
      " |-- RevisionNumber: integer (nullable = true)\n",
      " |-- Modification: string (nullable = true)\n",
      "\n"
     ]
    }
   ],
   "source": [
    "# import rail references and merge with api data\n",
    "rail_ref = spark.read.csv('RailReferences.csv', header=True, inferSchema=True)\n",
    "rail_ref.printSchema()"
   ]
  },
  {
   "cell_type": "code",
   "execution_count": 49,
   "id": "cc2816f7-8226-4780-9529-58856d171922",
   "metadata": {},
   "outputs": [
    {
     "data": {
      "text/plain": [
       "33004"
      ]
     },
     "execution_count": 49,
     "metadata": {},
     "output_type": "execute_result"
    }
   ],
   "source": [
    "# Merge both dfs for Station Name\n",
    "merged_df = df.join(rail_ref, df['train_platform'] == rail_ref['TiplocCode'], how='left')\n",
    "merged_df.count()"
   ]
  },
  {
   "cell_type": "markdown",
   "id": "b11e8259-fab8-4d80-bc73-b2d4eb7af751",
   "metadata": {},
   "source": [
    "## Creating New Columns"
   ]
  },
  {
   "cell_type": "code",
   "execution_count": 50,
   "id": "a5563328-98a5-4099-ab8e-2f2bb5b1fd88",
   "metadata": {},
   "outputs": [
    {
     "name": "stdout",
     "output_type": "stream",
     "text": [
      "+-----------------------+\n",
      "|arrival_time_delayed_by|\n",
      "+-----------------------+\n",
      "|                  149.0|\n",
      "|                  148.0|\n",
      "|                  148.0|\n",
      "|                  148.0|\n",
      "|                  148.0|\n",
      "|                  113.0|\n",
      "|                  113.0|\n",
      "|                  113.0|\n",
      "|                  113.0|\n",
      "|                  113.0|\n",
      "|                  113.0|\n",
      "|                  112.0|\n",
      "|                  112.0|\n",
      "|                  111.0|\n",
      "|                  111.0|\n",
      "|                  100.0|\n",
      "|                  100.0|\n",
      "|                  100.0|\n",
      "|                   99.0|\n",
      "|                   99.0|\n",
      "+-----------------------+\n",
      "only showing top 20 rows\n",
      "\n"
     ]
    }
   ],
   "source": [
    "# create separate cols for date, time, hour\n",
    "from pyspark.sql.functions import *\n",
    "import datetime\n",
    "\n",
    "#planned arrival\n",
    "merged_df = merged_df.withColumn('planned_arrival_date', to_date(F.col('planned_time_arrival'), 'YYYY-mm-dd'))\n",
    "merged_df = merged_df.withColumn('planned_arrival_hour', hour(F.col('planned_time_arrival')))\n",
    "\n",
    "# planned departure\n",
    "merged_df = merged_df.withColumn('planned_dep_date', to_date(F.col('planned_time_departure'), 'YYYY-mm-dd'))\n",
    "merged_df = merged_df.withColumn('planned_dep_hour', hour(F.col('planned_time_departure')))\n",
    "\n",
    "# actual arrival\n",
    "merged_df = merged_df.withColumn('actual_arrival_date', to_date(F.col('actual_arrival_time'), 'YYYY-mm-dd'))\n",
    "merged_df = merged_df.withColumn('actual_arrival_hour', hour(F.col('actual_arrival_time')))\n",
    "\n",
    "# actual departure\n",
    "merged_df = merged_df.withColumn('actual_dep_date', to_date(F.col('actual_departure_time'), 'YYYY-mm-dd'))\n",
    "merged_df = merged_df.withColumn('actual_dep_hour', hour(F.col('actual_departure_time')))\n",
    "\n",
    "# difference between planned and actual arrival time in minutes\n",
    "merged_df = merged_df.withColumn('arrival_time_delayed_by', (unix_timestamp(\"actual_arrival_time\") - unix_timestamp('planned_time_arrival'))/60)\n",
    "merged_df = merged_df.withColumn('dep_time_delayed_by', (unix_timestamp(\"actual_departure_time\") - unix_timestamp('planned_time_departure'))/60)\n",
    "\n",
    "# create weekday var\n",
    "merged_df = merged_df.withColumn('day_of_week', date_format(F.col('actual_dep_date'), 'EEEE'))\n",
    "\n",
    "\n",
    "merged_df.select(F.col('arrival_time_delayed_by')).filter(F.col('arrival_time_delayed_by') > 0).orderBy('arrival_time_delayed_by', ascending=False).show()"
   ]
  },
  {
   "cell_type": "code",
   "execution_count": 51,
   "id": "e356d59c-53ef-433b-9ff3-f09f10782ccb",
   "metadata": {
    "collapsed": true,
    "jupyter": {
     "outputs_hidden": true
    }
   },
   "outputs": [
    {
     "name": "stdout",
     "output_type": "stream",
     "text": [
      "+---------------+---------+------------------+-------------+--------------+-----------------+--------------------+----------------------+--------------------+----------------------+----+--------+------------+-------------------+---------------------+------------------+--------------------+-----------------+-----------+----------+-------+--------------------+---------------+--------+-------+--------+-------------------+--------------------+--------------+------------+--------------------+--------------------+----------------+----------------+-------------------+-------------------+---------------+---------------+-----------------------+-------------------+-----------+\n",
      "|       route_id|unique_id|service_start_date|update_origin|train_platform|working_time_pass|working_time_arrival|working_time_departure|planned_time_arrival|planned_time_departure|pass|platform|train_length|actual_arrival_time|actual_departure_time|is_delayed_arrival|is_delayed_departure|__index_level_0__|   AtcoCode|TiplocCode|CrsCode|         StationName|StationNameLang|GridType|Easting|Northing|   CreationDateTime|ModificationDateTime|RevisionNumber|Modification|planned_arrival_date|planned_arrival_hour|planned_dep_date|planned_dep_hour|actual_arrival_date|actual_arrival_hour|actual_dep_date|actual_dep_hour|arrival_time_delayed_by|dep_time_delayed_by|day_of_week|\n",
      "+---------------+---------+------------------+-------------+--------------+-----------------+--------------------+----------------------+--------------------+----------------------+----+--------+------------+-------------------+---------------------+------------------+--------------------+-----------------+-----------+----------+-------+--------------------+---------------+--------+-------+--------+-------------------+--------------------+--------------+------------+--------------------+--------------------+----------------+----------------+-------------------+-------------------+---------------+---------------+-----------------------+-------------------+-----------+\n",
      "|202307277674553|   L74553|        2023-07-27|           TD|       SVNOAKS|             NULL| 2023-07-27 21:53:00|   2023-07-27 21:54:30| 2023-07-27 21:53:00|   2023-07-27 21:54:00|NULL|       1|           8|               NULL|                 NULL|             false|               false|               22|9100SVNOAKS|   SVNOAKS|    SEV|Sevenoaks Rail St...|           NULL|       U| 552267|  155340|2003-11-04 00:00:00| 2006-09-18 18:24:34|             1|         rev|          2023-07-27|                  21|      2023-07-27|              21|               NULL|               NULL|           NULL|           NULL|                   NULL|               NULL|       NULL|\n",
      "|202307277679633|   L79633|        2023-07-27|           TD|          STFD|             NULL| 2023-07-27 19:42:30|   2023-07-27 19:43:30| 2023-07-27 19:43:00|   2023-07-27 19:43:00|NULL|       8|        NULL|2023-07-27 19:43:00|  2023-07-27 19:44:00|             false|               false|               25|   9100STFD|      STFD|    SRA|Stratford (London...|           NULL|       U| 538557|  184444|2003-11-04 00:00:00| 2009-10-05 17:34:50|             2|         rev|          2023-07-27|                  19|      2023-07-27|              19|         2023-07-27|                 19|     2023-07-27|             19|                    0.0|                1.0|   Thursday|\n",
      "|202307277679633|   L79633|        2023-07-27|           TD|       MRYLAND|             NULL| 2023-07-27 19:45:00|   2023-07-27 19:45:30| 2023-07-27 19:45:00|   2023-07-27 19:45:00|NULL|       2|        NULL|2023-07-27 19:45:00|  2023-07-27 19:46:00|             false|               false|               26|9100MRYLAND|   MRYLAND|    MYL|Maryland Rail Sta...|           NULL|       U| 539183|  184927|2003-11-04 00:00:00| 2009-03-30 16:45:31|             2|         rev|          2023-07-27|                  19|      2023-07-27|              19|         2023-07-27|                 19|     2023-07-27|             19|                    0.0|                1.0|   Thursday|\n",
      "|202307277679633|   L79633|        2023-07-27|           TD|        FRSTGT|             NULL| 2023-07-27 19:47:00|   2023-07-27 19:47:30| 2023-07-27 19:47:00|   2023-07-27 19:47:00|NULL|       2|        NULL|2023-07-27 19:47:00|  2023-07-27 19:48:00|             false|               false|               27| 9100FRSTGT|    FRSTGT|    FOG|Forest Gate Rail ...|           NULL|       U| 540458|  185335|2003-11-04 00:00:00| 2006-12-04 09:04:20|             2|         rev|          2023-07-27|                  19|      2023-07-27|              19|         2023-07-27|                 19|     2023-07-27|             19|                    0.0|                1.0|   Thursday|\n",
      "|202307277679633|   L79633|        2023-07-27|           TD|        MANRPK|             NULL| 2023-07-27 19:49:30|   2023-07-27 19:50:00| 2023-07-27 19:50:00|   2023-07-27 19:50:00|NULL|       2|        NULL|2023-07-27 19:50:00|  2023-07-27 19:50:00|             false|               false|               29| 9100MANRPK|    MANRPK|    MNP|Manor Park Rail S...|           NULL|       U| 541973|  185716|2003-11-04 00:00:00| 2010-05-14 17:37:23|             2|         rev|          2023-07-27|                  19|      2023-07-27|              19|         2023-07-27|                 19|     2023-07-27|             19|                    0.0|                0.0|   Thursday|\n",
      "|202307277679633|   L79633|        2023-07-27|           TD|        ILFORD|             NULL| 2023-07-27 19:52:00|   2023-07-27 19:53:00| 2023-07-27 19:52:00|   2023-07-27 19:53:00|NULL|       4|        NULL|2023-07-27 19:52:00|  2023-07-27 19:53:00|             false|               false|               30| 9100ILFORD|    ILFORD|    IFD| Ilford Rail Station|           NULL|       U| 543570|  186500|2003-11-04 00:00:00| 2010-05-14 17:37:23|             2|         rev|          2023-07-27|                  19|      2023-07-27|              19|         2023-07-27|                 19|     2023-07-27|             19|                    0.0|                0.0|   Thursday|\n",
      "|202307277679633|   L79633|        2023-07-27|           TD|       SVNKNGS|             NULL| 2023-07-27 19:55:00|   2023-07-27 19:55:30| 2023-07-27 19:55:00|   2023-07-27 19:55:00|NULL|       4|        NULL|2023-07-27 19:55:00|  2023-07-27 19:55:00|             false|               false|               31|9100SVNKNGS|   SVNKNGS|    SVK|Seven Kings Rail ...|           NULL|       U| 545455|  187100|2003-11-04 00:00:00| 2010-05-27 19:04:08|             2|         rev|          2023-07-27|                  19|      2023-07-27|              19|         2023-07-27|                 19|     2023-07-27|             19|                    0.0|                0.0|   Thursday|\n",
      "|202307277679633|   L79633|        2023-07-27|           TD|       GODMAYS|             NULL| 2023-07-27 19:57:00|   2023-07-27 19:57:30| 2023-07-27 19:57:00|   2023-07-27 19:57:00|NULL|       4|        NULL|2023-07-27 19:57:00|  2023-07-27 19:57:00|             false|               false|               32|9100GODMAYS|   GODMAYS|    GMY|Goodmayes Rail St...|           NULL|       U| 546400|  187300|2003-11-04 00:00:00| 2010-05-14 17:37:23|             2|         rev|          2023-07-27|                  19|      2023-07-27|              19|         2023-07-27|                 19|     2023-07-27|             19|                    0.0|                0.0|   Thursday|\n",
      "|202307277679633|   L79633|        2023-07-27|           TD|       CHDWLHT|             NULL| 2023-07-27 19:59:00|   2023-07-27 19:59:30| 2023-07-27 19:59:00|   2023-07-27 19:59:00|NULL|       4|        NULL|2023-07-27 19:59:00|  2023-07-27 19:59:00|             false|               false|               33|9100CHDWLHT|   CHDWLHT|    CTH|Chadwell Heath Ra...|           NULL|       U| 547650|  187610|2005-04-25 00:00:00| 2006-09-18 18:24:34|             1|         rev|          2023-07-27|                  19|      2023-07-27|              19|         2023-07-27|                 19|     2023-07-27|             19|                    0.0|                0.0|   Thursday|\n",
      "|202307277679633|   L79633|        2023-07-27|           TD|       ROMFORD|             NULL| 2023-07-27 20:02:30|   2023-07-27 20:03:30| 2023-07-27 20:03:00|   2023-07-27 20:03:00|NULL|       5|        NULL|2023-07-27 20:03:00|  2023-07-27 20:03:00|             false|               false|               34|9100ROMFORD|   ROMFORD|    RMF|Romford Rail Station|           NULL|       U| 551389|  188476|2003-11-04 00:00:00| 2007-02-13 17:06:21|             3|         rev|          2023-07-27|                  20|      2023-07-27|              20|         2023-07-27|                 20|     2023-07-27|             20|                    0.0|                0.0|   Thursday|\n",
      "|202307277679633|   L79633|        2023-07-27|           TD|       GIDEAPK|             NULL| 2023-07-27 20:05:30|   2023-07-27 20:06:00| 2023-07-27 20:06:00|   2023-07-27 20:06:00|NULL|       4|        NULL|2023-07-27 20:06:00|  2023-07-27 20:06:00|             false|               false|               35|9100GIDEAPK|   GIDEAPK|    GDP|Gidea Park Rail S...|           NULL|       U| 552940|  189310|2003-11-04 00:00:00| 2006-09-18 18:24:34|             1|         rev|          2023-07-27|                  20|      2023-07-27|              20|         2023-07-27|                 20|     2023-07-27|             20|                    0.0|                0.0|   Thursday|\n",
      "|202307277679633|   L79633|        2023-07-27|           TD|       HRLDWOD|             NULL| 2023-07-27 20:08:30|   2023-07-27 20:09:00| 2023-07-27 20:09:00|   2023-07-27 20:09:00|NULL|       4|        NULL|2023-07-27 20:09:00|  2023-07-27 20:09:00|             false|               false|               36|9100HRLDWOD|   HRLDWOD|    HRO|Harold Wood Rail ...|           NULL|       U| 554785|  190575|2003-11-04 00:00:00| 2010-05-14 17:37:23|             2|         rev|          2023-07-27|                  20|      2023-07-27|              20|         2023-07-27|                 20|     2023-07-27|             20|                    0.0|                0.0|   Thursday|\n",
      "|202307277679633|   L79633|        2023-07-27|           TD|       BRTWOOD|             NULL| 2023-07-27 20:12:30|   2023-07-27 20:13:00| 2023-07-27 20:13:00|   2023-07-27 20:13:00|NULL|       4|        NULL|2023-07-27 20:13:00|  2023-07-27 20:13:00|             false|               false|               37|9100BRTWOOD|   BRTWOOD|    BRE|Brentwood Rail St...|           NULL|       U| 559315|  193035|2005-04-21 00:00:00| 2010-10-06 16:45:11|             3|         rev|          2023-07-27|                  20|      2023-07-27|              20|         2023-07-27|                 20|     2023-07-27|             20|                    0.0|                0.0|   Thursday|\n",
      "|202307287155736|   G55736|        2023-07-28|          CIS|       BHAMMRS|             NULL| 2023-07-28 10:13:00|   2023-07-28 10:15:00| 2023-07-28 10:13:00|   2023-07-28 10:15:00|NULL|       1|           2|2023-07-28 10:13:00|  2023-07-28 10:15:00|             false|               false|               40|9100BHAMMRS|   BHAMMRS|    BMO|Birmingham Moor S...|           NULL|       U| 407400|  286800|2003-11-04 00:00:00| 2006-09-18 18:24:34|             1|         rev|          2023-07-28|                  10|      2023-07-28|              10|         2023-07-28|                 10|     2023-07-28|             10|                    0.0|                0.0|     Friday|\n",
      "|202307287155736|   G55736|        2023-07-28|          CIS|       SOLIHUL|             NULL| 2023-07-28 10:22:30|   2023-07-28 10:23:30| 2023-07-28 10:23:00|   2023-07-28 10:23:00|NULL|       1|           2|2023-07-28 10:23:00|  2023-07-28 10:23:00|             false|               false|               43|9100SOLIHUL|   SOLIHUL|    SOL|Solihull Rail Sta...|           NULL|       U| 414490|  279620|2003-11-04 00:00:00| 2007-02-13 17:06:21|             4|         rev|          2023-07-28|                  10|      2023-07-28|              10|         2023-07-28|                 10|     2023-07-28|             10|                    0.0|                0.0|     Friday|\n",
      "|202307287155736|   G55736|        2023-07-28|          CIS|       DORIDGE|             NULL| 2023-07-28 10:27:30|   2023-07-28 10:28:30| 2023-07-28 10:28:00|   2023-07-28 10:28:00|NULL|       1|           2|2023-07-28 10:28:00|  2023-07-28 10:28:00|             false|               false|               45|9100DORIDGE|   DORIDGE|    DDG|Dorridge Rail Sta...|           NULL|       U| 416920|  274920|2003-11-04 00:00:00| 2006-09-18 18:24:34|             1|         rev|          2023-07-28|                  10|      2023-07-28|              10|         2023-07-28|                 10|     2023-07-28|             10|                    0.0|                0.0|     Friday|\n",
      "|202307287155736|   G55736|        2023-07-28|          CIS|       WARWPWY|             NULL| 2023-07-28 10:37:00|   2023-07-28 10:38:30| 2023-07-28 10:37:00|   2023-07-28 10:38:00|NULL|       1|           2|2023-07-28 10:37:00|  2023-07-28 10:38:00|             false|               false|               47|9100WARWPWY|   WARWPWY|    WRP|Warwick Parkway R...|           NULL|       U| 426560|  265400|2003-11-04 00:00:00| 2006-09-18 18:24:34|             1|         rev|          2023-07-28|                  10|      2023-07-28|              10|         2023-07-28|                 10|     2023-07-28|             10|                    0.0|                0.0|     Friday|\n",
      "|202307287155736|   G55736|        2023-07-28|          CIS|       WARWICK|             NULL| 2023-07-28 10:41:00|   2023-07-28 10:42:30| 2023-07-28 10:41:00|   2023-07-28 10:42:00|NULL|       2|           2|2023-07-28 10:41:00|  2023-07-28 10:42:00|             false|               false|               48|9100WARWICK|   WARWICK|    WRW|Warwick Rail Station|           NULL|       U| 428620|  265460|2003-11-04 00:00:00| 2006-09-18 18:24:34|             1|         rev|          2023-07-28|                  10|      2023-07-28|              10|         2023-07-28|                 10|     2023-07-28|             10|                    0.0|                0.0|     Friday|\n",
      "|202307287155736|   G55736|        2023-07-28|          CIS|       LMNGTNS|             NULL| 2023-07-28 10:48:00|   2023-07-28 10:49:00| 2023-07-28 10:48:00|   2023-07-28 10:49:00|NULL|       3|           2|2023-07-28 10:48:00|  2023-07-28 10:49:00|             false|               false|               49|9100LMNGTNS|   LMNGTNS|    LMS|Leamington Spa Ra...|           NULL|       U| 431735|  265251|2003-11-04 00:00:00| 2006-09-18 18:24:34|             1|         rev|          2023-07-28|                  10|      2023-07-28|              10|         2023-07-28|                 10|     2023-07-28|             10|                    0.0|                0.0|     Friday|\n",
      "|202307287155736|   G55736|        2023-07-28|          CIS|          BNBR|             NULL| 2023-07-28 11:05:30|   2023-07-28 11:08:00| 2023-07-28 11:06:00|   2023-07-28 11:08:00|NULL|       3|           2|2023-07-28 11:06:00|  2023-07-28 11:08:00|             false|               false|               52|   9100BNBR|      BNBR|    BAN|Banbury Rail Station|           NULL|       U| 446160|  240427|2003-11-04 00:00:00| 2006-09-18 18:24:34|             2|         rev|          2023-07-28|                  11|      2023-07-28|              11|         2023-07-28|                 11|     2023-07-28|             11|                    0.0|                0.0|     Friday|\n",
      "+---------------+---------+------------------+-------------+--------------+-----------------+--------------------+----------------------+--------------------+----------------------+----+--------+------------+-------------------+---------------------+------------------+--------------------+-----------------+-----------+----------+-------+--------------------+---------------+--------+-------+--------+-------------------+--------------------+--------------+------------+--------------------+--------------------+----------------+----------------+-------------------+-------------------+---------------+---------------+-----------------------+-------------------+-----------+\n",
      "only showing top 20 rows\n",
      "\n"
     ]
    }
   ],
   "source": [
    "merged_df.show()"
   ]
  },
  {
   "cell_type": "markdown",
   "id": "97bdba3f-b22f-4453-b963-bd4952abf673",
   "metadata": {},
   "source": [
    "## Describe/ Explore Data"
   ]
  },
  {
   "cell_type": "code",
   "execution_count": 12,
   "id": "3ddc1e33-8aba-4fad-a266-91ae68e57270",
   "metadata": {},
   "outputs": [],
   "source": [
    "# Suggestions\n",
    "# Merge the Station Rail Name Reference Table with the API data in order to provide more readable station names.\n",
    "# How would you determine the top 10 most frequently visited stations in a day?\n",
    "# What information can be explored to understand train delays?\n",
    "# Are certain stations busier than others at certain times?"
   ]
  },
  {
   "cell_type": "markdown",
   "id": "b4e28ccb-9721-498b-a33c-3a7b3af81fbf",
   "metadata": {},
   "source": [
    "## Data Dict\n",
    "- route_id: The unique identifier for each train route.\n",
    "- unique_id: The unique identifier for each train\n",
    "- service_start_date: The date when the train service for the particular route started.\n",
    "- update_origin: Source or system from which the data was updated or retrieved.\n",
    "- train_platform: The short name for a station where the train arrives and departs.\n",
    "- working_time_pass: The planned or scheduled time for the train to pass a certain point or station.\n",
    "- working_time_arrival: The planned or scheduled time for the train to arrive at a station.\n",
    "- working_time_departure: The planned or scheduled time for the train to depart from a station.\n",
    "- planned_time_arrival: The officially planned time for the train to arrive at a station. This could be the public-facing scheduled time.\n",
    "- planned_time_departure: The officially planned time for the train to depart from a station. This could be the public-facing scheduled time.\n",
    "- platform: The platform number at the station where the train arrives and departs.\n",
    "- train_length: The physical length of the train. Number of cars.\n",
    "- actual_arrival_time: The actual time when the train arrived at a station.\n",
    "- actual_departure_time: The actual time when the train departed from a station.\n",
    "- is_delayed_arrival: A boolean flag indicating whether the train arrived late\n",
    "- is_delayed_departure: A boolean flag indicating whether the train departed late from a station."
   ]
  },
  {
   "cell_type": "code",
   "execution_count": 13,
   "id": "d8fd3597-3954-4bcb-a5f7-4b5217f67e32",
   "metadata": {},
   "outputs": [],
   "source": [
    "# compare planned arrival/ departure with actual\n",
    "# comapre average delay\n",
    "# delays by station, count is delayed\n",
    "# look at timestamps for busiest stations\n",
    "# look at delays during night vs morning\n",
    "# col subtracting planned vs actual"
   ]
  },
  {
   "cell_type": "code",
   "execution_count": 54,
   "id": "dcd3290d-e8de-4599-9b32-057efc5b6ff5",
   "metadata": {
    "collapsed": true,
    "jupyter": {
     "outputs_hidden": true
    }
   },
   "outputs": [
    {
     "name": "stdout",
     "output_type": "stream",
     "text": [
      "+--------------------+---------+----------------------+----------------+-------------+-------------------+-------------------------+---------------------+------------------------+--------------------+----------------------------+------------------------+\n",
      "|         StationName|avg(pass)|avg(__index_level_0__)|    avg(Easting)|avg(Northing)|avg(RevisionNumber)|avg(planned_arrival_hour)|avg(planned_dep_hour)|avg(actual_arrival_hour)|avg(actual_dep_hour)|avg(arrival_time_delayed_by)|avg(dep_time_delayed_by)|\n",
      "+--------------------+---------+----------------------+----------------+-------------+-------------------+-------------------------+---------------------+------------------------+--------------------+----------------------------+------------------------+\n",
      "|Basingstoke Rail ...|     NULL|     47780.73333333333|        463774.0|     152529.0|                2.0|       18.466666666666665|   18.466666666666665|      18.185185185185187|  18.357142857142858|                         2.0|      1.8928571428571428|\n",
      "|Lea Bridge Rail S...|     NULL|              25004.75|        536176.0|     187123.0|                1.0|       18.083333333333332|   18.083333333333332|       17.22222222222222|                17.6|                         0.0|                     0.0|\n",
      "|Birkenhead Centra...|     NULL|              44661.65|        332205.0|     388427.0|                3.0|                     19.2|                19.25|      18.705882352941178|               19.25|         0.29411764705882354|                    0.55|\n",
      "|Wimbledon Rail St...|     NULL|     43079.27472527473|524810.934065934|     170666.0|  2.065934065934066|       16.560439560439562|   16.560439560439562|      15.697368421052632|  16.290697674418606|        -0.13157894736842105|       0.313953488372093|\n",
      "|Manchester Oxford...|     NULL|              48600.25|        384035.0|     397505.0|                2.0|                     13.5|   13.520833333333334|      13.045454545454545|  13.520833333333334|          0.5454545454545454|                  0.5625|\n",
      "+--------------------+---------+----------------------+----------------+-------------+-------------------+-------------------------+---------------------+------------------------+--------------------+----------------------------+------------------------+\n",
      "\n"
     ]
    }
   ],
   "source": [
    "merged_df.groupBy('StationName').mean().limit(5).show()"
   ]
  },
  {
   "cell_type": "code",
   "execution_count": 12,
   "id": "3790fbf1-f178-4ebe-a47c-a2f57f1b5396",
   "metadata": {},
   "outputs": [
    {
     "name": "stdout",
     "output_type": "stream",
     "text": [
      "+---------------+---------+--------------------+------------------+--------------------+\n",
      "|       route_id|unique_id|         StationName|is_delayed_arrival|is_delayed_departure|\n",
      "+---------------+---------+--------------------+------------------+--------------------+\n",
      "|202307277674553|   L74553|Sevenoaks Rail St...|             false|               false|\n",
      "|202307277679633|   L79633|Stratford (London...|             false|               false|\n",
      "|202307277679633|   L79633|Maryland Rail Sta...|             false|               false|\n",
      "|202307277679633|   L79633|Forest Gate Rail ...|             false|               false|\n",
      "|202307277679633|   L79633|Manor Park Rail S...|             false|               false|\n",
      "+---------------+---------+--------------------+------------------+--------------------+\n",
      "\n"
     ]
    }
   ],
   "source": [
    "# create new df with route_id, unique_id, StationName, isDelayed\n",
    "delayed_df = merged_df[['route_id', 'unique_id', 'StationName', 'is_delayed_arrival', 'is_delayed_departure']]\n",
    "delayed_df.limit(5).show()"
   ]
  },
  {
   "cell_type": "markdown",
   "id": "4ee0b7f6-5c82-4b50-8d7c-94db20635d07",
   "metadata": {},
   "source": [
    "### Station with most delays"
   ]
  },
  {
   "cell_type": "code",
   "execution_count": 13,
   "id": "427e816a-df1b-40c7-bca8-91d87f23c929",
   "metadata": {},
   "outputs": [
    {
     "name": "stdout",
     "output_type": "stream",
     "text": [
      "+--------------------+------------------+-----+\n",
      "|         StationName|is_delayed_arrival|count|\n",
      "+--------------------+------------------+-----+\n",
      "|Reading Rail Station|              true|   15|\n",
      "|Rochdale Rail Sta...|              true|    8|\n",
      "|Todmorden Rail St...|              true|    8|\n",
      "|Halifax Rail Station|              true|    8|\n",
      "|Swindon Rail Station|              true|    8|\n",
      "|                NULL|              true|    7|\n",
      "|Hebden Bridge Rai...|              true|    7|\n",
      "|Newton Abbot Rail...|              true|    7|\n",
      "|Brockenhurst Rail...|              true|    7|\n",
      "| Totnes Rail Station|              true|    7|\n",
      "|Taunton Rail Station|              true|    7|\n",
      "|Southampton Airpo...|              true|    6|\n",
      "|Winchester Rail S...|              true|    6|\n",
      "|Exeter St Davids ...|              true|    6|\n",
      "|Bournemouth Rail ...|              true|    6|\n",
      "|Didcot Parkway Ra...|              true|    6|\n",
      "|Tiverton Parkway ...|              true|    6|\n",
      "| Havant Rail Station|              true|    6|\n",
      "|Portsmouth & Sout...|              true|    5|\n",
      "|Parkstone (Dorset...|              true|    5|\n",
      "+--------------------+------------------+-----+\n",
      "only showing top 20 rows\n",
      "\n",
      "+--------------------+--------------------+-----+\n",
      "|         StationName|is_delayed_departure|count|\n",
      "+--------------------+--------------------+-----+\n",
      "|Reading Rail Station|                true|   15|\n",
      "|Exeter St Davids ...|                true|    9|\n",
      "|Rochdale Rail Sta...|                true|    8|\n",
      "|Todmorden Rail St...|                true|    8|\n",
      "|Halifax Rail Station|                true|    8|\n",
      "|Swindon Rail Station|                true|    8|\n",
      "|                NULL|                true|    7|\n",
      "|Bournemouth Rail ...|                true|    7|\n",
      "|Bradford Intercha...|                true|    7|\n",
      "|Hebden Bridge Rai...|                true|    7|\n",
      "|Newton Abbot Rail...|                true|    7|\n",
      "|Brockenhurst Rail...|                true|    7|\n",
      "| Totnes Rail Station|                true|    7|\n",
      "|Taunton Rail Station|                true|    7|\n",
      "|Southampton Airpo...|                true|    6|\n",
      "|Winchester Rail S...|                true|    6|\n",
      "|Didcot Parkway Ra...|                true|    6|\n",
      "|Tiverton Parkway ...|                true|    6|\n",
      "| Havant Rail Station|                true|    6|\n",
      "|Southampton Centr...|                true|    5|\n",
      "+--------------------+--------------------+-----+\n",
      "only showing top 20 rows\n",
      "\n"
     ]
    }
   ],
   "source": [
    "delayed_df.filter(F.col('is_delayed_arrival') == True).groupBy('StationName', 'is_delayed_arrival').count().orderBy('count', ascending=False).show()\n",
    "delayed_df.filter(F.col('is_delayed_departure') == True).groupBy('StationName', 'is_delayed_departure').count().orderBy('count', ascending=False).show()"
   ]
  },
  {
   "cell_type": "code",
   "execution_count": 17,
   "id": "921d2c83-0c50-4e74-b981-42470c1596a7",
   "metadata": {},
   "outputs": [],
   "source": [
    "# find station with the greatest time delays"
   ]
  },
  {
   "cell_type": "code",
   "execution_count": 14,
   "id": "9cf036c6-dc27-4574-b2ed-893e505bef39",
   "metadata": {},
   "outputs": [],
   "source": [
    "# convert to pandas for additional exploration and visualization\n",
    "pandas_df = merged_df.toPandas()"
   ]
  },
  {
   "cell_type": "code",
   "execution_count": 15,
   "id": "f825520c-4d72-4f3f-97bf-ac88e3815554",
   "metadata": {},
   "outputs": [],
   "source": [
    "pandas_df['StationName'] = pandas_df['StationName'].fillna(pandas_df['train_platform'])"
   ]
  },
  {
   "cell_type": "code",
   "execution_count": 16,
   "id": "1a812d97-d4c2-40d2-bf08-328fb8c1cf76",
   "metadata": {},
   "outputs": [
    {
     "data": {
      "text/html": [
       "<div>\n",
       "<style scoped>\n",
       "    .dataframe tbody tr th:only-of-type {\n",
       "        vertical-align: middle;\n",
       "    }\n",
       "\n",
       "    .dataframe tbody tr th {\n",
       "        vertical-align: top;\n",
       "    }\n",
       "\n",
       "    .dataframe thead th {\n",
       "        text-align: right;\n",
       "    }\n",
       "</style>\n",
       "<table border=\"1\" class=\"dataframe\">\n",
       "  <thead>\n",
       "    <tr style=\"text-align: right;\">\n",
       "      <th></th>\n",
       "      <th>StationName</th>\n",
       "      <th>dep_time_delayed_by</th>\n",
       "    </tr>\n",
       "  </thead>\n",
       "  <tbody>\n",
       "    <tr>\n",
       "      <th>1648</th>\n",
       "      <td>Reading Rail Station</td>\n",
       "      <td>961.0</td>\n",
       "    </tr>\n",
       "    <tr>\n",
       "      <th>1595</th>\n",
       "      <td>Port Talbot Parkway Rail Station</td>\n",
       "      <td>554.0</td>\n",
       "    </tr>\n",
       "    <tr>\n",
       "      <th>731</th>\n",
       "      <td>Exeter St Davids Rail Station</td>\n",
       "      <td>524.0</td>\n",
       "    </tr>\n",
       "    <tr>\n",
       "      <th>1419</th>\n",
       "      <td>Neath Rail Station</td>\n",
       "      <td>502.0</td>\n",
       "    </tr>\n",
       "    <tr>\n",
       "      <th>2008</th>\n",
       "      <td>Totnes Rail Station</td>\n",
       "      <td>481.0</td>\n",
       "    </tr>\n",
       "    <tr>\n",
       "      <th>...</th>\n",
       "      <td>...</td>\n",
       "      <td>...</td>\n",
       "    </tr>\n",
       "    <tr>\n",
       "      <th>285</th>\n",
       "      <td>Bridgend Rail Station</td>\n",
       "      <td>-5260.0</td>\n",
       "    </tr>\n",
       "    <tr>\n",
       "      <th>1625</th>\n",
       "      <td>Pyle Rail Station</td>\n",
       "      <td>-5604.0</td>\n",
       "    </tr>\n",
       "    <tr>\n",
       "      <th>1243</th>\n",
       "      <td>Llanharan Rail Station</td>\n",
       "      <td>-5606.0</td>\n",
       "    </tr>\n",
       "    <tr>\n",
       "      <th>1541</th>\n",
       "      <td>Pencoed Rail Station</td>\n",
       "      <td>-5610.0</td>\n",
       "    </tr>\n",
       "    <tr>\n",
       "      <th>666</th>\n",
       "      <td>Earlestown Rail Station</td>\n",
       "      <td>-5684.0</td>\n",
       "    </tr>\n",
       "  </tbody>\n",
       "</table>\n",
       "<p>2258 rows × 2 columns</p>\n",
       "</div>"
      ],
      "text/plain": [
       "                           StationName  dep_time_delayed_by\n",
       "1648              Reading Rail Station                961.0\n",
       "1595  Port Talbot Parkway Rail Station                554.0\n",
       "731      Exeter St Davids Rail Station                524.0\n",
       "1419                Neath Rail Station                502.0\n",
       "2008               Totnes Rail Station                481.0\n",
       "...                                ...                  ...\n",
       "285              Bridgend Rail Station              -5260.0\n",
       "1625                 Pyle Rail Station              -5604.0\n",
       "1243            Llanharan Rail Station              -5606.0\n",
       "1541              Pencoed Rail Station              -5610.0\n",
       "666            Earlestown Rail Station              -5684.0\n",
       "\n",
       "[2258 rows x 2 columns]"
      ]
     },
     "execution_count": 16,
     "metadata": {},
     "output_type": "execute_result"
    }
   ],
   "source": [
    "result = pandas_df.groupby('StationName')['dep_time_delayed_by'].sum().reset_index()\n",
    "result = result.sort_values(by='dep_time_delayed_by', ascending=False)\n",
    "result"
   ]
  },
  {
   "cell_type": "markdown",
   "id": "dfd8d527-7d1d-4275-945c-93545b400d27",
   "metadata": {},
   "source": [
    "## Average Delays by Station"
   ]
  },
  {
   "cell_type": "code",
   "execution_count": 58,
   "id": "a298a7df-a532-4b25-9721-7ab79db785e1",
   "metadata": {},
   "outputs": [
    {
     "data": {
      "text/html": [
       "<div>\n",
       "<style scoped>\n",
       "    .dataframe tbody tr th:only-of-type {\n",
       "        vertical-align: middle;\n",
       "    }\n",
       "\n",
       "    .dataframe tbody tr th {\n",
       "        vertical-align: top;\n",
       "    }\n",
       "\n",
       "    .dataframe thead th {\n",
       "        text-align: right;\n",
       "    }\n",
       "</style>\n",
       "<table border=\"1\" class=\"dataframe\">\n",
       "  <thead>\n",
       "    <tr style=\"text-align: right;\">\n",
       "      <th></th>\n",
       "      <th>StationName</th>\n",
       "      <th>arrival_time_delayed_by</th>\n",
       "      <th>dep_time_delayed_by</th>\n",
       "    </tr>\n",
       "  </thead>\n",
       "  <tbody>\n",
       "    <tr>\n",
       "      <th>0</th>\n",
       "      <td>ATTRCLI</td>\n",
       "      <td>0.000000</td>\n",
       "      <td>0.000000</td>\n",
       "    </tr>\n",
       "    <tr>\n",
       "      <th>1</th>\n",
       "      <td>Abbey Wood (London) Rail Station</td>\n",
       "      <td>0.454545</td>\n",
       "      <td>0.630435</td>\n",
       "    </tr>\n",
       "    <tr>\n",
       "      <th>2</th>\n",
       "      <td>Aber Rail Station</td>\n",
       "      <td>3.500000</td>\n",
       "      <td>3.500000</td>\n",
       "    </tr>\n",
       "    <tr>\n",
       "      <th>3</th>\n",
       "      <td>Abercynon Rail Station</td>\n",
       "      <td>1.400000</td>\n",
       "      <td>1.600000</td>\n",
       "    </tr>\n",
       "    <tr>\n",
       "      <th>4</th>\n",
       "      <td>Aberdeen Rail Station</td>\n",
       "      <td>5.000000</td>\n",
       "      <td>2.500000</td>\n",
       "    </tr>\n",
       "    <tr>\n",
       "      <th>...</th>\n",
       "      <td>...</td>\n",
       "      <td>...</td>\n",
       "      <td>...</td>\n",
       "    </tr>\n",
       "    <tr>\n",
       "      <th>2253</th>\n",
       "      <td>Yoker Rail Station</td>\n",
       "      <td>0.052632</td>\n",
       "      <td>0.052632</td>\n",
       "    </tr>\n",
       "    <tr>\n",
       "      <th>2254</th>\n",
       "      <td>York Rail Station</td>\n",
       "      <td>0.400000</td>\n",
       "      <td>0.945946</td>\n",
       "    </tr>\n",
       "    <tr>\n",
       "      <th>2255</th>\n",
       "      <td>Yorton Rail Station</td>\n",
       "      <td>3.928571</td>\n",
       "      <td>4.142857</td>\n",
       "    </tr>\n",
       "    <tr>\n",
       "      <th>2256</th>\n",
       "      <td>Ystrad Mynach Rail Station</td>\n",
       "      <td>2.000000</td>\n",
       "      <td>2.000000</td>\n",
       "    </tr>\n",
       "    <tr>\n",
       "      <th>2257</th>\n",
       "      <td>Ystrad Rhondda Rail Station</td>\n",
       "      <td>0.000000</td>\n",
       "      <td>0.000000</td>\n",
       "    </tr>\n",
       "  </tbody>\n",
       "</table>\n",
       "<p>2258 rows × 3 columns</p>\n",
       "</div>"
      ],
      "text/plain": [
       "                           StationName  arrival_time_delayed_by  \\\n",
       "0                              ATTRCLI                 0.000000   \n",
       "1     Abbey Wood (London) Rail Station                 0.454545   \n",
       "2                    Aber Rail Station                 3.500000   \n",
       "3               Abercynon Rail Station                 1.400000   \n",
       "4                Aberdeen Rail Station                 5.000000   \n",
       "...                                ...                      ...   \n",
       "2253                Yoker Rail Station                 0.052632   \n",
       "2254                 York Rail Station                 0.400000   \n",
       "2255               Yorton Rail Station                 3.928571   \n",
       "2256        Ystrad Mynach Rail Station                 2.000000   \n",
       "2257       Ystrad Rhondda Rail Station                 0.000000   \n",
       "\n",
       "      dep_time_delayed_by  \n",
       "0                0.000000  \n",
       "1                0.630435  \n",
       "2                3.500000  \n",
       "3                1.600000  \n",
       "4                2.500000  \n",
       "...                   ...  \n",
       "2253             0.052632  \n",
       "2254             0.945946  \n",
       "2255             4.142857  \n",
       "2256             2.000000  \n",
       "2257             0.000000  \n",
       "\n",
       "[2258 rows x 3 columns]"
      ]
     },
     "execution_count": 58,
     "metadata": {},
     "output_type": "execute_result"
    }
   ],
   "source": [
    "avg_delays = pandas_df.groupby('StationName')[['arrival_time_delayed_by', 'dep_time_delayed_by']].mean().reset_index()\n",
    "avg_delays"
   ]
  },
  {
   "cell_type": "markdown",
   "id": "1f520b5f-860a-44d2-843c-2d30fcd29c7d",
   "metadata": {},
   "source": [
    "## Analyzing Correlations Between Features and Delay Columns"
   ]
  },
  {
   "cell_type": "code",
   "execution_count": 60,
   "id": "c9f70079-2551-4185-9a89-a15233c6108a",
   "metadata": {},
   "outputs": [
    {
     "name": "stderr",
     "output_type": "stream",
     "text": [
      "/tmp/ipykernel_228/2851285276.py:2: FutureWarning: The default value of numeric_only in DataFrame.corr is deprecated. In a future version, it will default to False. Select only valid columns or specify the value of numeric_only to silence this warning.\n",
      "  correlation_matrix = pandas_df.corr()\n"
     ]
    },
    {
     "data": {
      "text/html": [
       "<div>\n",
       "<style scoped>\n",
       "    .dataframe tbody tr th:only-of-type {\n",
       "        vertical-align: middle;\n",
       "    }\n",
       "\n",
       "    .dataframe tbody tr th {\n",
       "        vertical-align: top;\n",
       "    }\n",
       "\n",
       "    .dataframe thead th {\n",
       "        text-align: right;\n",
       "    }\n",
       "</style>\n",
       "<table border=\"1\" class=\"dataframe\">\n",
       "  <thead>\n",
       "    <tr style=\"text-align: right;\">\n",
       "      <th></th>\n",
       "      <th>arrival_time_delayed_by</th>\n",
       "      <th>dep_time_delayed_by</th>\n",
       "    </tr>\n",
       "  </thead>\n",
       "  <tbody>\n",
       "    <tr>\n",
       "      <th>arrival_time_delayed_by</th>\n",
       "      <td>1.000000</td>\n",
       "      <td>0.894775</td>\n",
       "    </tr>\n",
       "    <tr>\n",
       "      <th>dep_time_delayed_by</th>\n",
       "      <td>0.894775</td>\n",
       "      <td>1.000000</td>\n",
       "    </tr>\n",
       "    <tr>\n",
       "      <th>actual_arrival_hour</th>\n",
       "      <td>0.105385</td>\n",
       "      <td>0.084461</td>\n",
       "    </tr>\n",
       "    <tr>\n",
       "      <th>actual_dep_hour</th>\n",
       "      <td>0.104477</td>\n",
       "      <td>0.117920</td>\n",
       "    </tr>\n",
       "    <tr>\n",
       "      <th>Easting</th>\n",
       "      <td>0.025389</td>\n",
       "      <td>0.020500</td>\n",
       "    </tr>\n",
       "  </tbody>\n",
       "</table>\n",
       "</div>"
      ],
      "text/plain": [
       "                         arrival_time_delayed_by  dep_time_delayed_by\n",
       "arrival_time_delayed_by                 1.000000             0.894775\n",
       "dep_time_delayed_by                     0.894775             1.000000\n",
       "actual_arrival_hour                     0.105385             0.084461\n",
       "actual_dep_hour                         0.104477             0.117920\n",
       "Easting                                 0.025389             0.020500"
      ]
     },
     "execution_count": 60,
     "metadata": {},
     "output_type": "execute_result"
    }
   ],
   "source": [
    "# Analyze correlations between features and delay columns\n",
    "correlation_matrix = pandas_df.corr()\n",
    "\n",
    "# Display the correlations with delay columns\n",
    "delay_correlations = correlation_matrix[['arrival_time_delayed_by', 'dep_time_delayed_by']].sort_values(by='arrival_time_delayed_by', ascending=False)\n",
    "\n",
    "# Display the correlations\n",
    "delay_correlations.head()\n"
   ]
  },
  {
   "cell_type": "markdown",
   "id": "076dac9b-e92c-445e-853b-d77bf025d181",
   "metadata": {},
   "source": [
    "Delayed arrived and delayed departures are highly correlated, while geospatial features such as Easting and Northing have low correlation with delays. Such geospatial features will not be useful to anazlye further"
   ]
  },
  {
   "cell_type": "markdown",
   "id": "22b5c01a-061a-4e01-80e2-c4e42afcd02b",
   "metadata": {},
   "source": [
    "## Questions:\n",
    "- Which train stations have the most delays?\n",
    "- Which has the longest delays?\n",
    "- Are delays more frequent at certain times of the day?\n",
    "- Total frequency of delays\n",
    "- Correlation between delays and train length?"
   ]
  },
  {
   "cell_type": "code",
   "execution_count": 17,
   "id": "3b96af26-f508-4ea3-a210-8f81f2341882",
   "metadata": {},
   "outputs": [
    {
     "data": {
      "text/html": [
       "<div>\n",
       "<style scoped>\n",
       "    .dataframe tbody tr th:only-of-type {\n",
       "        vertical-align: middle;\n",
       "    }\n",
       "\n",
       "    .dataframe tbody tr th {\n",
       "        vertical-align: top;\n",
       "    }\n",
       "\n",
       "    .dataframe thead th {\n",
       "        text-align: right;\n",
       "    }\n",
       "</style>\n",
       "<table border=\"1\" class=\"dataframe\">\n",
       "  <thead>\n",
       "    <tr style=\"text-align: right;\">\n",
       "      <th></th>\n",
       "      <th>StationName</th>\n",
       "      <th>is_delayed_departure</th>\n",
       "    </tr>\n",
       "  </thead>\n",
       "  <tbody>\n",
       "    <tr>\n",
       "      <th>226</th>\n",
       "      <td>Reading Rail Station</td>\n",
       "      <td>15</td>\n",
       "    </tr>\n",
       "    <tr>\n",
       "      <th>104</th>\n",
       "      <td>Exeter St Davids Rail Station</td>\n",
       "      <td>9</td>\n",
       "    </tr>\n",
       "    <tr>\n",
       "      <th>229</th>\n",
       "      <td>Rochdale Rail Station</td>\n",
       "      <td>8</td>\n",
       "    </tr>\n",
       "    <tr>\n",
       "      <th>280</th>\n",
       "      <td>Todmorden Rail Station</td>\n",
       "      <td>8</td>\n",
       "    </tr>\n",
       "    <tr>\n",
       "      <th>122</th>\n",
       "      <td>Halifax Rail Station</td>\n",
       "      <td>8</td>\n",
       "    </tr>\n",
       "    <tr>\n",
       "      <th>...</th>\n",
       "      <td>...</td>\n",
       "      <td>...</td>\n",
       "    </tr>\n",
       "    <tr>\n",
       "      <th>139</th>\n",
       "      <td>Honiton Rail Station</td>\n",
       "      <td>1</td>\n",
       "    </tr>\n",
       "    <tr>\n",
       "      <th>140</th>\n",
       "      <td>Honley Rail Station</td>\n",
       "      <td>1</td>\n",
       "    </tr>\n",
       "    <tr>\n",
       "      <th>141</th>\n",
       "      <td>Huddersfield Rail Station</td>\n",
       "      <td>1</td>\n",
       "    </tr>\n",
       "    <tr>\n",
       "      <th>143</th>\n",
       "      <td>Hurst Green Rail Station</td>\n",
       "      <td>1</td>\n",
       "    </tr>\n",
       "    <tr>\n",
       "      <th>317</th>\n",
       "      <td>Yeovil Junction Rail Station</td>\n",
       "      <td>1</td>\n",
       "    </tr>\n",
       "  </tbody>\n",
       "</table>\n",
       "<p>318 rows × 2 columns</p>\n",
       "</div>"
      ],
      "text/plain": [
       "                       StationName  is_delayed_departure\n",
       "226           Reading Rail Station                    15\n",
       "104  Exeter St Davids Rail Station                     9\n",
       "229          Rochdale Rail Station                     8\n",
       "280         Todmorden Rail Station                     8\n",
       "122           Halifax Rail Station                     8\n",
       "..                             ...                   ...\n",
       "139           Honiton Rail Station                     1\n",
       "140            Honley Rail Station                     1\n",
       "141      Huddersfield Rail Station                     1\n",
       "143       Hurst Green Rail Station                     1\n",
       "317   Yeovil Junction Rail Station                     1\n",
       "\n",
       "[318 rows x 2 columns]"
      ]
     },
     "execution_count": 17,
     "metadata": {},
     "output_type": "execute_result"
    }
   ],
   "source": [
    "result = pandas_df[pandas_df['is_delayed_departure'] == True].groupby('StationName')['is_delayed_departure'].count().reset_index()\n",
    "result = result.sort_values(by='is_delayed_departure', ascending=False)\n",
    "result"
   ]
  },
  {
   "cell_type": "code",
   "execution_count": 22,
   "id": "13aa75fb-9684-440b-b50e-f0982f475467",
   "metadata": {
    "scrolled": true
   },
   "outputs": [
    {
     "name": "stdout",
     "output_type": "stream",
     "text": [
      "<class 'pandas.core.frame.DataFrame'>\n",
      "RangeIndex: 33004 entries, 0 to 33003\n",
      "Data columns (total 41 columns):\n",
      " #   Column                   Non-Null Count  Dtype         \n",
      "---  ------                   --------------  -----         \n",
      " 0   route_id                 33004 non-null  object        \n",
      " 1   unique_id                33004 non-null  object        \n",
      " 2   service_start_date       33004 non-null  object        \n",
      " 3   update_origin            33004 non-null  object        \n",
      " 4   train_platform           33004 non-null  object        \n",
      " 5   working_time_pass        0 non-null      datetime64[ns]\n",
      " 6   working_time_arrival     33004 non-null  datetime64[ns]\n",
      " 7   working_time_departure   33004 non-null  datetime64[ns]\n",
      " 8   planned_time_arrival     32952 non-null  datetime64[ns]\n",
      " 9   planned_time_departure   33004 non-null  datetime64[ns]\n",
      " 10  pass                     0 non-null      float64       \n",
      " 11  platform                 31690 non-null  object        \n",
      " 12  train_length             9601 non-null   object        \n",
      " 13  actual_arrival_time      28114 non-null  datetime64[ns]\n",
      " 14  actual_departure_time    30698 non-null  datetime64[ns]\n",
      " 15  is_delayed_arrival       33004 non-null  bool          \n",
      " 16  is_delayed_departure     33004 non-null  bool          \n",
      " 17  __index_level_0__        33004 non-null  int64         \n",
      " 18  AtcoCode                 32089 non-null  object        \n",
      " 19  TiplocCode               32089 non-null  object        \n",
      " 20  CrsCode                  32089 non-null  object        \n",
      " 21  StationName              33004 non-null  object        \n",
      " 22  StationNameLang          0 non-null      object        \n",
      " 23  GridType                 32069 non-null  object        \n",
      " 24  Easting                  32089 non-null  float64       \n",
      " 25  Northing                 32089 non-null  float64       \n",
      " 26  CreationDateTime         32089 non-null  datetime64[ns]\n",
      " 27  ModificationDateTime     32089 non-null  datetime64[ns]\n",
      " 28  RevisionNumber           32089 non-null  float64       \n",
      " 29  Modification             32089 non-null  object        \n",
      " 30  planned_arrival_date     32952 non-null  object        \n",
      " 31  planned_arrival_hour     32952 non-null  float64       \n",
      " 32  planned_dep_date         33004 non-null  object        \n",
      " 33  planned_dep_hour         33004 non-null  int32         \n",
      " 34  actual_arrival_date      28114 non-null  object        \n",
      " 35  actual_arrival_hour      28114 non-null  float64       \n",
      " 36  actual_dep_date          30698 non-null  object        \n",
      " 37  actual_dep_hour          30698 non-null  float64       \n",
      " 38  arrival_time_delayed_by  28114 non-null  float64       \n",
      " 39  dep_time_delayed_by      30698 non-null  float64       \n",
      " 40  day_of_week              30698 non-null  object        \n",
      "dtypes: bool(2), datetime64[ns](9), float64(9), int32(1), int64(1), object(19)\n",
      "memory usage: 9.8+ MB\n"
     ]
    }
   ],
   "source": [
    "pandas_df.info()"
   ]
  },
  {
   "cell_type": "code",
   "execution_count": 18,
   "id": "e4e4f4ee-9720-4c54-9f3a-d907410fd201",
   "metadata": {},
   "outputs": [
    {
     "data": {
      "text/html": [
       "<div>\n",
       "<style scoped>\n",
       "    .dataframe tbody tr th:only-of-type {\n",
       "        vertical-align: middle;\n",
       "    }\n",
       "\n",
       "    .dataframe tbody tr th {\n",
       "        vertical-align: top;\n",
       "    }\n",
       "\n",
       "    .dataframe thead th {\n",
       "        text-align: right;\n",
       "    }\n",
       "</style>\n",
       "<table border=\"1\" class=\"dataframe\">\n",
       "  <thead>\n",
       "    <tr style=\"text-align: right;\">\n",
       "      <th></th>\n",
       "      <th>route_id</th>\n",
       "      <th>unique_id</th>\n",
       "      <th>service_start_date</th>\n",
       "      <th>update_origin</th>\n",
       "      <th>train_platform</th>\n",
       "      <th>working_time_pass</th>\n",
       "      <th>working_time_arrival</th>\n",
       "      <th>working_time_departure</th>\n",
       "      <th>planned_time_arrival</th>\n",
       "      <th>planned_time_departure</th>\n",
       "      <th>...</th>\n",
       "      <th>planned_arrival_hour</th>\n",
       "      <th>planned_dep_date</th>\n",
       "      <th>planned_dep_hour</th>\n",
       "      <th>actual_arrival_date</th>\n",
       "      <th>actual_arrival_hour</th>\n",
       "      <th>actual_dep_date</th>\n",
       "      <th>actual_dep_hour</th>\n",
       "      <th>arrival_time_delayed_by</th>\n",
       "      <th>dep_time_delayed_by</th>\n",
       "      <th>day_of_week</th>\n",
       "    </tr>\n",
       "  </thead>\n",
       "  <tbody>\n",
       "    <tr>\n",
       "      <th>228</th>\n",
       "      <td>202307278100602</td>\n",
       "      <td>Q00602</td>\n",
       "      <td>2023-07-27</td>\n",
       "      <td>Darwin</td>\n",
       "      <td>RWLNDSC</td>\n",
       "      <td>NaT</td>\n",
       "      <td>2023-07-27 18:59:30</td>\n",
       "      <td>2023-07-27 19:00:00</td>\n",
       "      <td>2023-07-27 19:00:00</td>\n",
       "      <td>2023-07-27 19:00:00</td>\n",
       "      <td>...</td>\n",
       "      <td>19.0</td>\n",
       "      <td>2023-07-27</td>\n",
       "      <td>19</td>\n",
       "      <td>2023-07-27</td>\n",
       "      <td>19.0</td>\n",
       "      <td>2023-07-27</td>\n",
       "      <td>19.0</td>\n",
       "      <td>2.0</td>\n",
       "      <td>3.0</td>\n",
       "      <td>Thursday</td>\n",
       "    </tr>\n",
       "    <tr>\n",
       "      <th>229</th>\n",
       "      <td>202307278100602</td>\n",
       "      <td>Q00602</td>\n",
       "      <td>2023-07-27</td>\n",
       "      <td>Darwin</td>\n",
       "      <td>HAVANT</td>\n",
       "      <td>NaT</td>\n",
       "      <td>2023-07-27 19:04:30</td>\n",
       "      <td>2023-07-27 19:05:30</td>\n",
       "      <td>2023-07-27 19:05:00</td>\n",
       "      <td>2023-07-27 19:05:00</td>\n",
       "      <td>...</td>\n",
       "      <td>19.0</td>\n",
       "      <td>2023-07-27</td>\n",
       "      <td>19</td>\n",
       "      <td>2023-07-27</td>\n",
       "      <td>19.0</td>\n",
       "      <td>2023-07-27</td>\n",
       "      <td>19.0</td>\n",
       "      <td>2.0</td>\n",
       "      <td>3.0</td>\n",
       "      <td>Thursday</td>\n",
       "    </tr>\n",
       "    <tr>\n",
       "      <th>230</th>\n",
       "      <td>202307278100602</td>\n",
       "      <td>Q00602</td>\n",
       "      <td>2023-07-27</td>\n",
       "      <td>Darwin</td>\n",
       "      <td>BDHMPTN</td>\n",
       "      <td>NaT</td>\n",
       "      <td>2023-07-27 19:07:30</td>\n",
       "      <td>2023-07-27 19:08:30</td>\n",
       "      <td>2023-07-27 19:08:00</td>\n",
       "      <td>2023-07-27 19:08:00</td>\n",
       "      <td>...</td>\n",
       "      <td>19.0</td>\n",
       "      <td>2023-07-27</td>\n",
       "      <td>19</td>\n",
       "      <td>2023-07-27</td>\n",
       "      <td>19.0</td>\n",
       "      <td>2023-07-27</td>\n",
       "      <td>19.0</td>\n",
       "      <td>2.0</td>\n",
       "      <td>2.0</td>\n",
       "      <td>Thursday</td>\n",
       "    </tr>\n",
       "    <tr>\n",
       "      <th>231</th>\n",
       "      <td>202307278100602</td>\n",
       "      <td>Q00602</td>\n",
       "      <td>2023-07-27</td>\n",
       "      <td>Darwin</td>\n",
       "      <td>HILSEA</td>\n",
       "      <td>NaT</td>\n",
       "      <td>2023-07-27 19:13:00</td>\n",
       "      <td>2023-07-27 19:13:30</td>\n",
       "      <td>2023-07-27 19:13:00</td>\n",
       "      <td>2023-07-27 19:13:00</td>\n",
       "      <td>...</td>\n",
       "      <td>19.0</td>\n",
       "      <td>2023-07-27</td>\n",
       "      <td>19</td>\n",
       "      <td>2023-07-27</td>\n",
       "      <td>19.0</td>\n",
       "      <td>2023-07-27</td>\n",
       "      <td>19.0</td>\n",
       "      <td>2.0</td>\n",
       "      <td>2.0</td>\n",
       "      <td>Thursday</td>\n",
       "    </tr>\n",
       "    <tr>\n",
       "      <th>232</th>\n",
       "      <td>202307278100602</td>\n",
       "      <td>Q00602</td>\n",
       "      <td>2023-07-27</td>\n",
       "      <td>Darwin</td>\n",
       "      <td>FRATTON</td>\n",
       "      <td>NaT</td>\n",
       "      <td>2023-07-27 19:17:30</td>\n",
       "      <td>2023-07-27 19:19:00</td>\n",
       "      <td>2023-07-27 19:18:00</td>\n",
       "      <td>2023-07-27 19:19:00</td>\n",
       "      <td>...</td>\n",
       "      <td>19.0</td>\n",
       "      <td>2023-07-27</td>\n",
       "      <td>19</td>\n",
       "      <td>2023-07-27</td>\n",
       "      <td>19.0</td>\n",
       "      <td>2023-07-27</td>\n",
       "      <td>19.0</td>\n",
       "      <td>0.0</td>\n",
       "      <td>0.0</td>\n",
       "      <td>Thursday</td>\n",
       "    </tr>\n",
       "  </tbody>\n",
       "</table>\n",
       "<p>5 rows × 41 columns</p>\n",
       "</div>"
      ],
      "text/plain": [
       "            route_id unique_id service_start_date update_origin  \\\n",
       "228  202307278100602    Q00602         2023-07-27        Darwin   \n",
       "229  202307278100602    Q00602         2023-07-27        Darwin   \n",
       "230  202307278100602    Q00602         2023-07-27        Darwin   \n",
       "231  202307278100602    Q00602         2023-07-27        Darwin   \n",
       "232  202307278100602    Q00602         2023-07-27        Darwin   \n",
       "\n",
       "    train_platform working_time_pass working_time_arrival  \\\n",
       "228        RWLNDSC               NaT  2023-07-27 18:59:30   \n",
       "229         HAVANT               NaT  2023-07-27 19:04:30   \n",
       "230        BDHMPTN               NaT  2023-07-27 19:07:30   \n",
       "231         HILSEA               NaT  2023-07-27 19:13:00   \n",
       "232        FRATTON               NaT  2023-07-27 19:17:30   \n",
       "\n",
       "    working_time_departure planned_time_arrival planned_time_departure  ...  \\\n",
       "228    2023-07-27 19:00:00  2023-07-27 19:00:00    2023-07-27 19:00:00  ...   \n",
       "229    2023-07-27 19:05:30  2023-07-27 19:05:00    2023-07-27 19:05:00  ...   \n",
       "230    2023-07-27 19:08:30  2023-07-27 19:08:00    2023-07-27 19:08:00  ...   \n",
       "231    2023-07-27 19:13:30  2023-07-27 19:13:00    2023-07-27 19:13:00  ...   \n",
       "232    2023-07-27 19:19:00  2023-07-27 19:18:00    2023-07-27 19:19:00  ...   \n",
       "\n",
       "     planned_arrival_hour planned_dep_date planned_dep_hour  \\\n",
       "228                  19.0       2023-07-27               19   \n",
       "229                  19.0       2023-07-27               19   \n",
       "230                  19.0       2023-07-27               19   \n",
       "231                  19.0       2023-07-27               19   \n",
       "232                  19.0       2023-07-27               19   \n",
       "\n",
       "    actual_arrival_date actual_arrival_hour  actual_dep_date  actual_dep_hour  \\\n",
       "228          2023-07-27                19.0       2023-07-27             19.0   \n",
       "229          2023-07-27                19.0       2023-07-27             19.0   \n",
       "230          2023-07-27                19.0       2023-07-27             19.0   \n",
       "231          2023-07-27                19.0       2023-07-27             19.0   \n",
       "232          2023-07-27                19.0       2023-07-27             19.0   \n",
       "\n",
       "     arrival_time_delayed_by dep_time_delayed_by day_of_week  \n",
       "228                      2.0                 3.0    Thursday  \n",
       "229                      2.0                 3.0    Thursday  \n",
       "230                      2.0                 2.0    Thursday  \n",
       "231                      2.0                 2.0    Thursday  \n",
       "232                      0.0                 0.0    Thursday  \n",
       "\n",
       "[5 rows x 41 columns]"
      ]
     },
     "execution_count": 18,
     "metadata": {},
     "output_type": "execute_result"
    }
   ],
   "source": [
    "delayed_df = pandas_df[pandas_df['is_delayed_departure'] == True]\n",
    "delayed_df.head()"
   ]
  },
  {
   "cell_type": "code",
   "execution_count": 19,
   "id": "aa9427b2-3b42-46e8-b52b-cb790be8244d",
   "metadata": {},
   "outputs": [
    {
     "data": {
      "image/png": "[encoded data removed]",
      "text/plain": [
       "<Figure size 1000x600 with 1 Axes>"
      ]
     },
     "metadata": {},
     "output_type": "display_data"
    }
   ],
   "source": [
    "import seaborn as sns\n",
    "import matplotlib.pyplot as plt\n",
    "\n",
    "plt.figure(figsize=(10,6))\n",
    "sns.histplot(data=delayed_df, x='actual_dep_hour')\n",
    "plt.title('Count of Delayed Departure by hour of day')\n",
    "plt.xlabel('Actual Departure Hour')\n",
    "plt.ylabel('Count of Delays')\n",
    "plt.grid()\n",
    "plt.show()"
   ]
  },
  {
   "cell_type": "code",
   "execution_count": 25,
   "id": "5d65138b-e277-4247-865c-12ddb1c8d8c4",
   "metadata": {},
   "outputs": [
    {
     "data": {
      "image/png": "[encoded data removed]",
      "text/plain": [
       "<Figure size 1000x600 with 1 Axes>"
      ]
     },
     "metadata": {},
     "output_type": "display_data"
    }
   ],
   "source": [
    "import seaborn as sns\n",
    "import matplotlib.pyplot as plt\n",
    "\n",
    "plt.figure(figsize=(10,6))\n",
    "sns.histplot(data=delayed_df, x='actual_arrival_hour')\n",
    "plt.title('Count of Delayed Arrival by hour of day')\n",
    "plt.xlabel('Actual Arrival Hour')\n",
    "plt.ylabel('Count of Delays')\n",
    "plt.grid()\n",
    "plt.show()"
   ]
  },
  {
   "cell_type": "code",
   "execution_count": 56,
   "id": "f910b461-787e-4d89-8ce5-452665b25b03",
   "metadata": {},
   "outputs": [
    {
     "data": {
      "text/plain": [
       "London Bridge Rail Station            316\n",
       "Clapham Junction Rail Station         260\n",
       "London Waterloo East Rail Station     166\n",
       "East Croydon Rail Station             138\n",
       "Stockport Rail Station                135\n",
       "                                     ... \n",
       "Lapford Rail Station                    1\n",
       "Morchard Road Rail Station              1\n",
       "Copplestone Rail Station                1\n",
       "Yeoford Rail Station                    1\n",
       "Harwich International Rail Station      1\n",
       "Name: StationName, Length: 2258, dtype: int64"
      ]
     },
     "execution_count": 56,
     "metadata": {},
     "output_type": "execute_result"
    }
   ],
   "source": [
    "pandas_df['StationName'].value_counts()"
   ]
  },
  {
   "cell_type": "code",
   "execution_count": 20,
   "id": "8c88eedd-b992-4782-8b75-9b78adcc1775",
   "metadata": {},
   "outputs": [
    {
     "data": {
      "text/plain": [
       "False    32361\n",
       "True       643\n",
       "Name: is_delayed_departure, dtype: int64"
      ]
     },
     "execution_count": 20,
     "metadata": {},
     "output_type": "execute_result"
    }
   ],
   "source": [
    "pandas_df['is_delayed_departure'].value_counts()"
   ]
  },
  {
   "cell_type": "code",
   "execution_count": 21,
   "id": "75566925-ee5c-4745-9b31-a4198577a21d",
   "metadata": {},
   "outputs": [
    {
     "data": {
      "text/plain": [
       "False    32385\n",
       "True       619\n",
       "Name: is_delayed_arrival, dtype: int64"
      ]
     },
     "execution_count": 21,
     "metadata": {},
     "output_type": "execute_result"
    }
   ],
   "source": [
    "pandas_df['is_delayed_arrival'].value_counts()"
   ]
  },
  {
   "cell_type": "code",
   "execution_count": 22,
   "id": "403c5fd6-d495-46d0-b6bf-6519ce15695e",
   "metadata": {},
   "outputs": [
    {
     "data": {
      "text/plain": [
       " 0.0       22123\n",
       " 1.0        1439\n",
       " 2.0        1199\n",
       " 3.0         669\n",
       " 4.0         415\n",
       "           ...  \n",
       "-1394.0        1\n",
       " 62.0          1\n",
       "-1439.0        1\n",
       "-1427.0        1\n",
       "-1383.0        1\n",
       "Name: arrival_time_delayed_by, Length: 104, dtype: int64"
      ]
     },
     "execution_count": 22,
     "metadata": {},
     "output_type": "execute_result"
    }
   ],
   "source": [
    "pandas_df['arrival_time_delayed_by'].value_counts()"
   ]
  },
  {
   "cell_type": "code",
   "execution_count": 23,
   "id": "89587514-2a9e-4653-9600-e922d563be7a",
   "metadata": {},
   "outputs": [
    {
     "data": {
      "text/plain": [
       "day_of_week  planned_dep_date\n",
       "Thursday     2023-07-27          602\n",
       "Friday       2023-07-28           41\n",
       "dtype: int64"
      ]
     },
     "execution_count": 23,
     "metadata": {},
     "output_type": "execute_result"
    }
   ],
   "source": [
    "delayed_df[['day_of_week', 'planned_dep_date']].value_counts()"
   ]
  },
  {
   "cell_type": "code",
   "execution_count": 24,
   "id": "2fea86c7-e3fe-4009-84dd-aca6ead17dfc",
   "metadata": {},
   "outputs": [
    {
     "data": {
      "text/html": [
       "<div>\n",
       "<style scoped>\n",
       "    .dataframe tbody tr th:only-of-type {\n",
       "        vertical-align: middle;\n",
       "    }\n",
       "\n",
       "    .dataframe tbody tr th {\n",
       "        vertical-align: top;\n",
       "    }\n",
       "\n",
       "    .dataframe thead th {\n",
       "        text-align: right;\n",
       "    }\n",
       "</style>\n",
       "<table border=\"1\" class=\"dataframe\">\n",
       "  <thead>\n",
       "    <tr style=\"text-align: right;\">\n",
       "      <th></th>\n",
       "      <th>day_of_week</th>\n",
       "      <th>route_id</th>\n",
       "      <th>unique_id</th>\n",
       "      <th>service_start_date</th>\n",
       "      <th>update_origin</th>\n",
       "      <th>train_platform</th>\n",
       "      <th>working_time_pass</th>\n",
       "      <th>working_time_arrival</th>\n",
       "      <th>working_time_departure</th>\n",
       "      <th>planned_time_arrival</th>\n",
       "      <th>...</th>\n",
       "      <th>planned_arrival_date</th>\n",
       "      <th>planned_arrival_hour</th>\n",
       "      <th>planned_dep_date</th>\n",
       "      <th>planned_dep_hour</th>\n",
       "      <th>actual_arrival_date</th>\n",
       "      <th>actual_arrival_hour</th>\n",
       "      <th>actual_dep_date</th>\n",
       "      <th>actual_dep_hour</th>\n",
       "      <th>arrival_time_delayed_by</th>\n",
       "      <th>dep_time_delayed_by</th>\n",
       "    </tr>\n",
       "  </thead>\n",
       "  <tbody>\n",
       "    <tr>\n",
       "      <th>0</th>\n",
       "      <td>Friday</td>\n",
       "      <td>41</td>\n",
       "      <td>41</td>\n",
       "      <td>41</td>\n",
       "      <td>41</td>\n",
       "      <td>41</td>\n",
       "      <td>0</td>\n",
       "      <td>41</td>\n",
       "      <td>41</td>\n",
       "      <td>41</td>\n",
       "      <td>...</td>\n",
       "      <td>41</td>\n",
       "      <td>41</td>\n",
       "      <td>41</td>\n",
       "      <td>41</td>\n",
       "      <td>39</td>\n",
       "      <td>39</td>\n",
       "      <td>41</td>\n",
       "      <td>41</td>\n",
       "      <td>39</td>\n",
       "      <td>41</td>\n",
       "    </tr>\n",
       "    <tr>\n",
       "      <th>1</th>\n",
       "      <td>Thursday</td>\n",
       "      <td>602</td>\n",
       "      <td>602</td>\n",
       "      <td>602</td>\n",
       "      <td>602</td>\n",
       "      <td>602</td>\n",
       "      <td>0</td>\n",
       "      <td>602</td>\n",
       "      <td>602</td>\n",
       "      <td>590</td>\n",
       "      <td>...</td>\n",
       "      <td>590</td>\n",
       "      <td>590</td>\n",
       "      <td>602</td>\n",
       "      <td>602</td>\n",
       "      <td>571</td>\n",
       "      <td>571</td>\n",
       "      <td>602</td>\n",
       "      <td>602</td>\n",
       "      <td>571</td>\n",
       "      <td>602</td>\n",
       "    </tr>\n",
       "  </tbody>\n",
       "</table>\n",
       "<p>2 rows × 41 columns</p>\n",
       "</div>"
      ],
      "text/plain": [
       "  day_of_week  route_id  unique_id  service_start_date  update_origin  \\\n",
       "0      Friday        41         41                  41             41   \n",
       "1    Thursday       602        602                 602            602   \n",
       "\n",
       "   train_platform  working_time_pass  working_time_arrival  \\\n",
       "0              41                  0                    41   \n",
       "1             602                  0                   602   \n",
       "\n",
       "   working_time_departure  planned_time_arrival  ...  planned_arrival_date  \\\n",
       "0                      41                    41  ...                    41   \n",
       "1                     602                   590  ...                   590   \n",
       "\n",
       "   planned_arrival_hour  planned_dep_date  planned_dep_hour  \\\n",
       "0                    41                41                41   \n",
       "1                   590               602               602   \n",
       "\n",
       "   actual_arrival_date  actual_arrival_hour  actual_dep_date  actual_dep_hour  \\\n",
       "0                   39                   39               41               41   \n",
       "1                  571                  571              602              602   \n",
       "\n",
       "   arrival_time_delayed_by  dep_time_delayed_by  \n",
       "0                       39                   41  \n",
       "1                      571                  602  \n",
       "\n",
       "[2 rows x 41 columns]"
      ]
     },
     "execution_count": 24,
     "metadata": {},
     "output_type": "execute_result"
    }
   ],
   "source": [
    "weekday_df = delayed_df.groupby('day_of_week').count().reset_index()\n",
    "weekday_df"
   ]
  },
  {
   "cell_type": "code",
   "execution_count": 25,
   "id": "c1c17284-353b-4be9-ac0a-6acab39bf81e",
   "metadata": {},
   "outputs": [
    {
     "data": {
      "image/png": "[encoded data removed]",
      "text/plain": [
       "<Figure size 1000x600 with 1 Axes>"
      ]
     },
     "metadata": {},
     "output_type": "display_data"
    }
   ],
   "source": [
    "import seaborn as sns\n",
    "import matplotlib.pyplot as plt\n",
    "\n",
    "plt.figure(figsize=(10,6))\n",
    "sns.lineplot(data=weekday_df, x='day_of_week', y='route_id')\n",
    "plt.title('Delays by Day of Week')\n",
    "plt.xlabel('Day of Week')\n",
    "plt.ylabel('Count of Delays')\n",
    "plt.grid()\n",
    "plt.show()"
   ]
  },
  {
   "cell_type": "markdown",
   "id": "df6d994e-1eec-4e8b-8d9e-892e2d3e7bc6",
   "metadata": {},
   "source": [
    "## Logistic Regression\n",
    "predict if train will be delayed"
   ]
  },
  {
   "cell_type": "code",
   "execution_count": 32,
   "id": "d62fd892-eb0f-4094-9f99-c98b33d4d700",
   "metadata": {},
   "outputs": [],
   "source": [
    "# from sklearn.model_selection import train_test_split\n",
    "# import pandas as pd\n",
    "\n",
    "# vars = pandas_df[['platform', 'planned_arrival_hour', 'planned_dep_hour', 'is_delayed_departure']].dropna()\n",
    "# vars['is_delayed_departure'] = vars['is_delayed_departure'].astype('int')\n",
    "# # df2 = pd.get_dummies(vars['train_platform'], dtype='float')\n",
    "# # vars = pd.concat([vars, df2], axis=1)\n",
    "# # vars = vars.drop('train_platform', axis=1)\n",
    "\n",
    "# # X = Platform, train_platform, hour, day_of_week\n",
    "# X = vars.drop('is_delayed_departure', axis=1)\n",
    "# y = vars['is_delayed_departure']"
   ]
  },
  {
   "cell_type": "code",
   "execution_count": 33,
   "id": "bacbed0f-1044-412a-8df5-77f9fe72b0a5",
   "metadata": {},
   "outputs": [],
   "source": [
    "# X_train, X_test, y_train, y_test = train_test_split(X, y, test_size=0.2, random_state=42)\n",
    "# X_train"
   ]
  },
  {
   "cell_type": "code",
   "execution_count": 34,
   "id": "475050f5-b164-4e96-923a-c6aef229040a",
   "metadata": {},
   "outputs": [],
   "source": [
    "# from sklearn.linear_model import LogisticRegression\n",
    "\n",
    "# model = LogisticRegression()\n",
    "# model.fit(X_train, y_train)"
   ]
  },
  {
   "cell_type": "code",
   "execution_count": 43,
   "id": "a857cfdc-229e-41c5-8aba-3681c6bb231b",
   "metadata": {},
   "outputs": [],
   "source": [
    "from sklearn.model_selection import train_test_split\n",
    "from sklearn.linear_model import LogisticRegression\n",
    "import pandas as pd\n",
    "# Assuming `pandas_df` is already defined and contains the necessary columns\n",
    "vars = pandas_df[['train_platform', 'planned_arrival_hour', 'planned_dep_hour', 'is_delayed_departure']].dropna()\n",
    "vars['is_delayed_departure'] = vars['is_delayed_departure'].astype('float')\n",
    "vars['planned_dep_hour'] = vars['planned_dep_hour'].astype('float')\n",
    "# One-hot encoding for the categorical 'platform' column\n",
    "vars = pd.get_dummies(vars, columns=['train_platform'], dtype='float')\n",
    "# X = all columns except 'is_delayed_departure'\n",
    "X = vars.drop('is_delayed_departure', axis=1)\n",
    "y = vars['is_delayed_departure']\n",
    "# Splitting the data into training and testing sets\n",
    "X_train, X_test, y_train, y_test = train_test_split(X, y, test_size=0.5, random_state=42)"
   ]
  },
  {
   "cell_type": "code",
   "execution_count": 44,
   "id": "e18700ed-38cb-4f95-8372-6051c8346c61",
   "metadata": {},
   "outputs": [
    {
     "name": "stdout",
     "output_type": "stream",
     "text": [
      "<class 'pandas.core.frame.DataFrame'>\n",
      "Int64Index: 32952 entries, 0 to 33003\n",
      "Columns: 2268 entries, planned_arrival_hour to train_platform_YTRHOND\n",
      "dtypes: float64(2268)\n",
      "memory usage: 570.4 MB\n"
     ]
    }
   ],
   "source": [
    "vars.info()"
   ]
  },
  {
   "cell_type": "code",
   "execution_count": 28,
   "id": "0cb4a011-59fa-438f-b738-2224bac57458",
   "metadata": {
    "scrolled": true
   },
   "outputs": [
    {
     "data": {
      "text/html": [
       "<div>\n",
       "<style scoped>\n",
       "    .dataframe tbody tr th:only-of-type {\n",
       "        vertical-align: middle;\n",
       "    }\n",
       "\n",
       "    .dataframe tbody tr th {\n",
       "        vertical-align: top;\n",
       "    }\n",
       "\n",
       "    .dataframe thead th {\n",
       "        text-align: right;\n",
       "    }\n",
       "</style>\n",
       "<table border=\"1\" class=\"dataframe\">\n",
       "  <thead>\n",
       "    <tr style=\"text-align: right;\">\n",
       "      <th></th>\n",
       "      <th>planned_arrival_hour</th>\n",
       "      <th>planned_dep_hour</th>\n",
       "      <th>train_platform_ABDO</th>\n",
       "      <th>train_platform_ABDVY</th>\n",
       "      <th>train_platform_ABER</th>\n",
       "      <th>train_platform_ABGLELE</th>\n",
       "      <th>train_platform_ABRCYNS</th>\n",
       "      <th>train_platform_ABRDEEN</th>\n",
       "      <th>train_platform_ABRE</th>\n",
       "      <th>train_platform_ABRGVNY</th>\n",
       "      <th>...</th>\n",
       "      <th>train_platform_YNYSWEN</th>\n",
       "      <th>train_platform_YOKER</th>\n",
       "      <th>train_platform_YORK</th>\n",
       "      <th>train_platform_YORTON</th>\n",
       "      <th>train_platform_YOVILJN</th>\n",
       "      <th>train_platform_YOVILPM</th>\n",
       "      <th>train_platform_YRDLYWD</th>\n",
       "      <th>train_platform_YSTRADM</th>\n",
       "      <th>train_platform_YTMNSTR</th>\n",
       "      <th>train_platform_YTRHOND</th>\n",
       "    </tr>\n",
       "  </thead>\n",
       "  <tbody>\n",
       "    <tr>\n",
       "      <th>26369</th>\n",
       "      <td>10.0</td>\n",
       "      <td>10.0</td>\n",
       "      <td>0.0</td>\n",
       "      <td>0.0</td>\n",
       "      <td>0.0</td>\n",
       "      <td>0.0</td>\n",
       "      <td>0.0</td>\n",
       "      <td>0.0</td>\n",
       "      <td>0.0</td>\n",
       "      <td>0.0</td>\n",
       "      <td>...</td>\n",
       "      <td>0.0</td>\n",
       "      <td>0.0</td>\n",
       "      <td>0.0</td>\n",
       "      <td>0.0</td>\n",
       "      <td>0.0</td>\n",
       "      <td>0.0</td>\n",
       "      <td>0.0</td>\n",
       "      <td>0.0</td>\n",
       "      <td>0.0</td>\n",
       "      <td>0.0</td>\n",
       "    </tr>\n",
       "    <tr>\n",
       "      <th>18536</th>\n",
       "      <td>23.0</td>\n",
       "      <td>23.0</td>\n",
       "      <td>0.0</td>\n",
       "      <td>0.0</td>\n",
       "      <td>0.0</td>\n",
       "      <td>0.0</td>\n",
       "      <td>0.0</td>\n",
       "      <td>0.0</td>\n",
       "      <td>0.0</td>\n",
       "      <td>0.0</td>\n",
       "      <td>...</td>\n",
       "      <td>0.0</td>\n",
       "      <td>0.0</td>\n",
       "      <td>0.0</td>\n",
       "      <td>0.0</td>\n",
       "      <td>0.0</td>\n",
       "      <td>0.0</td>\n",
       "      <td>0.0</td>\n",
       "      <td>0.0</td>\n",
       "      <td>0.0</td>\n",
       "      <td>0.0</td>\n",
       "    </tr>\n",
       "    <tr>\n",
       "      <th>7082</th>\n",
       "      <td>18.0</td>\n",
       "      <td>18.0</td>\n",
       "      <td>0.0</td>\n",
       "      <td>0.0</td>\n",
       "      <td>0.0</td>\n",
       "      <td>0.0</td>\n",
       "      <td>0.0</td>\n",
       "      <td>0.0</td>\n",
       "      <td>0.0</td>\n",
       "      <td>0.0</td>\n",
       "      <td>...</td>\n",
       "      <td>0.0</td>\n",
       "      <td>0.0</td>\n",
       "      <td>0.0</td>\n",
       "      <td>0.0</td>\n",
       "      <td>0.0</td>\n",
       "      <td>0.0</td>\n",
       "      <td>0.0</td>\n",
       "      <td>0.0</td>\n",
       "      <td>0.0</td>\n",
       "      <td>0.0</td>\n",
       "    </tr>\n",
       "    <tr>\n",
       "      <th>25046</th>\n",
       "      <td>18.0</td>\n",
       "      <td>18.0</td>\n",
       "      <td>0.0</td>\n",
       "      <td>0.0</td>\n",
       "      <td>0.0</td>\n",
       "      <td>0.0</td>\n",
       "      <td>0.0</td>\n",
       "      <td>0.0</td>\n",
       "      <td>0.0</td>\n",
       "      <td>0.0</td>\n",
       "      <td>...</td>\n",
       "      <td>0.0</td>\n",
       "      <td>0.0</td>\n",
       "      <td>0.0</td>\n",
       "      <td>0.0</td>\n",
       "      <td>0.0</td>\n",
       "      <td>0.0</td>\n",
       "      <td>0.0</td>\n",
       "      <td>0.0</td>\n",
       "      <td>0.0</td>\n",
       "      <td>0.0</td>\n",
       "    </tr>\n",
       "    <tr>\n",
       "      <th>29044</th>\n",
       "      <td>17.0</td>\n",
       "      <td>17.0</td>\n",
       "      <td>0.0</td>\n",
       "      <td>0.0</td>\n",
       "      <td>0.0</td>\n",
       "      <td>0.0</td>\n",
       "      <td>0.0</td>\n",
       "      <td>0.0</td>\n",
       "      <td>0.0</td>\n",
       "      <td>0.0</td>\n",
       "      <td>...</td>\n",
       "      <td>0.0</td>\n",
       "      <td>0.0</td>\n",
       "      <td>0.0</td>\n",
       "      <td>0.0</td>\n",
       "      <td>0.0</td>\n",
       "      <td>0.0</td>\n",
       "      <td>0.0</td>\n",
       "      <td>0.0</td>\n",
       "      <td>0.0</td>\n",
       "      <td>0.0</td>\n",
       "    </tr>\n",
       "    <tr>\n",
       "      <th>...</th>\n",
       "      <td>...</td>\n",
       "      <td>...</td>\n",
       "      <td>...</td>\n",
       "      <td>...</td>\n",
       "      <td>...</td>\n",
       "      <td>...</td>\n",
       "      <td>...</td>\n",
       "      <td>...</td>\n",
       "      <td>...</td>\n",
       "      <td>...</td>\n",
       "      <td>...</td>\n",
       "      <td>...</td>\n",
       "      <td>...</td>\n",
       "      <td>...</td>\n",
       "      <td>...</td>\n",
       "      <td>...</td>\n",
       "      <td>...</td>\n",
       "      <td>...</td>\n",
       "      <td>...</td>\n",
       "      <td>...</td>\n",
       "      <td>...</td>\n",
       "    </tr>\n",
       "    <tr>\n",
       "      <th>16880</th>\n",
       "      <td>23.0</td>\n",
       "      <td>23.0</td>\n",
       "      <td>0.0</td>\n",
       "      <td>0.0</td>\n",
       "      <td>0.0</td>\n",
       "      <td>0.0</td>\n",
       "      <td>0.0</td>\n",
       "      <td>0.0</td>\n",
       "      <td>0.0</td>\n",
       "      <td>0.0</td>\n",
       "      <td>...</td>\n",
       "      <td>0.0</td>\n",
       "      <td>0.0</td>\n",
       "      <td>0.0</td>\n",
       "      <td>0.0</td>\n",
       "      <td>0.0</td>\n",
       "      <td>0.0</td>\n",
       "      <td>0.0</td>\n",
       "      <td>0.0</td>\n",
       "      <td>0.0</td>\n",
       "      <td>0.0</td>\n",
       "    </tr>\n",
       "    <tr>\n",
       "      <th>6277</th>\n",
       "      <td>22.0</td>\n",
       "      <td>22.0</td>\n",
       "      <td>0.0</td>\n",
       "      <td>0.0</td>\n",
       "      <td>0.0</td>\n",
       "      <td>0.0</td>\n",
       "      <td>0.0</td>\n",
       "      <td>0.0</td>\n",
       "      <td>0.0</td>\n",
       "      <td>0.0</td>\n",
       "      <td>...</td>\n",
       "      <td>0.0</td>\n",
       "      <td>0.0</td>\n",
       "      <td>0.0</td>\n",
       "      <td>0.0</td>\n",
       "      <td>0.0</td>\n",
       "      <td>0.0</td>\n",
       "      <td>0.0</td>\n",
       "      <td>0.0</td>\n",
       "      <td>0.0</td>\n",
       "      <td>0.0</td>\n",
       "    </tr>\n",
       "    <tr>\n",
       "      <th>11303</th>\n",
       "      <td>23.0</td>\n",
       "      <td>23.0</td>\n",
       "      <td>0.0</td>\n",
       "      <td>0.0</td>\n",
       "      <td>0.0</td>\n",
       "      <td>0.0</td>\n",
       "      <td>0.0</td>\n",
       "      <td>0.0</td>\n",
       "      <td>0.0</td>\n",
       "      <td>0.0</td>\n",
       "      <td>...</td>\n",
       "      <td>0.0</td>\n",
       "      <td>0.0</td>\n",
       "      <td>0.0</td>\n",
       "      <td>0.0</td>\n",
       "      <td>0.0</td>\n",
       "      <td>0.0</td>\n",
       "      <td>0.0</td>\n",
       "      <td>0.0</td>\n",
       "      <td>0.0</td>\n",
       "      <td>0.0</td>\n",
       "    </tr>\n",
       "    <tr>\n",
       "      <th>860</th>\n",
       "      <td>22.0</td>\n",
       "      <td>22.0</td>\n",
       "      <td>0.0</td>\n",
       "      <td>0.0</td>\n",
       "      <td>0.0</td>\n",
       "      <td>0.0</td>\n",
       "      <td>0.0</td>\n",
       "      <td>0.0</td>\n",
       "      <td>0.0</td>\n",
       "      <td>0.0</td>\n",
       "      <td>...</td>\n",
       "      <td>0.0</td>\n",
       "      <td>0.0</td>\n",
       "      <td>0.0</td>\n",
       "      <td>0.0</td>\n",
       "      <td>0.0</td>\n",
       "      <td>0.0</td>\n",
       "      <td>0.0</td>\n",
       "      <td>0.0</td>\n",
       "      <td>0.0</td>\n",
       "      <td>0.0</td>\n",
       "    </tr>\n",
       "    <tr>\n",
       "      <th>15824</th>\n",
       "      <td>20.0</td>\n",
       "      <td>20.0</td>\n",
       "      <td>0.0</td>\n",
       "      <td>0.0</td>\n",
       "      <td>0.0</td>\n",
       "      <td>0.0</td>\n",
       "      <td>0.0</td>\n",
       "      <td>0.0</td>\n",
       "      <td>0.0</td>\n",
       "      <td>0.0</td>\n",
       "      <td>...</td>\n",
       "      <td>0.0</td>\n",
       "      <td>0.0</td>\n",
       "      <td>0.0</td>\n",
       "      <td>0.0</td>\n",
       "      <td>0.0</td>\n",
       "      <td>0.0</td>\n",
       "      <td>0.0</td>\n",
       "      <td>0.0</td>\n",
       "      <td>0.0</td>\n",
       "      <td>0.0</td>\n",
       "    </tr>\n",
       "  </tbody>\n",
       "</table>\n",
       "<p>16476 rows × 2267 columns</p>\n",
       "</div>"
      ],
      "text/plain": [
       "       planned_arrival_hour  planned_dep_hour  train_platform_ABDO  \\\n",
       "26369                  10.0              10.0                  0.0   \n",
       "18536                  23.0              23.0                  0.0   \n",
       "7082                   18.0              18.0                  0.0   \n",
       "25046                  18.0              18.0                  0.0   \n",
       "29044                  17.0              17.0                  0.0   \n",
       "...                     ...               ...                  ...   \n",
       "16880                  23.0              23.0                  0.0   \n",
       "6277                   22.0              22.0                  0.0   \n",
       "11303                  23.0              23.0                  0.0   \n",
       "860                    22.0              22.0                  0.0   \n",
       "15824                  20.0              20.0                  0.0   \n",
       "\n",
       "       train_platform_ABDVY  train_platform_ABER  train_platform_ABGLELE  \\\n",
       "26369                   0.0                  0.0                     0.0   \n",
       "18536                   0.0                  0.0                     0.0   \n",
       "7082                    0.0                  0.0                     0.0   \n",
       "25046                   0.0                  0.0                     0.0   \n",
       "29044                   0.0                  0.0                     0.0   \n",
       "...                     ...                  ...                     ...   \n",
       "16880                   0.0                  0.0                     0.0   \n",
       "6277                    0.0                  0.0                     0.0   \n",
       "11303                   0.0                  0.0                     0.0   \n",
       "860                     0.0                  0.0                     0.0   \n",
       "15824                   0.0                  0.0                     0.0   \n",
       "\n",
       "       train_platform_ABRCYNS  train_platform_ABRDEEN  train_platform_ABRE  \\\n",
       "26369                     0.0                     0.0                  0.0   \n",
       "18536                     0.0                     0.0                  0.0   \n",
       "7082                      0.0                     0.0                  0.0   \n",
       "25046                     0.0                     0.0                  0.0   \n",
       "29044                     0.0                     0.0                  0.0   \n",
       "...                       ...                     ...                  ...   \n",
       "16880                     0.0                     0.0                  0.0   \n",
       "6277                      0.0                     0.0                  0.0   \n",
       "11303                     0.0                     0.0                  0.0   \n",
       "860                       0.0                     0.0                  0.0   \n",
       "15824                     0.0                     0.0                  0.0   \n",
       "\n",
       "       train_platform_ABRGVNY  ...  train_platform_YNYSWEN  \\\n",
       "26369                     0.0  ...                     0.0   \n",
       "18536                     0.0  ...                     0.0   \n",
       "7082                      0.0  ...                     0.0   \n",
       "25046                     0.0  ...                     0.0   \n",
       "29044                     0.0  ...                     0.0   \n",
       "...                       ...  ...                     ...   \n",
       "16880                     0.0  ...                     0.0   \n",
       "6277                      0.0  ...                     0.0   \n",
       "11303                     0.0  ...                     0.0   \n",
       "860                       0.0  ...                     0.0   \n",
       "15824                     0.0  ...                     0.0   \n",
       "\n",
       "       train_platform_YOKER  train_platform_YORK  train_platform_YORTON  \\\n",
       "26369                   0.0                  0.0                    0.0   \n",
       "18536                   0.0                  0.0                    0.0   \n",
       "7082                    0.0                  0.0                    0.0   \n",
       "25046                   0.0                  0.0                    0.0   \n",
       "29044                   0.0                  0.0                    0.0   \n",
       "...                     ...                  ...                    ...   \n",
       "16880                   0.0                  0.0                    0.0   \n",
       "6277                    0.0                  0.0                    0.0   \n",
       "11303                   0.0                  0.0                    0.0   \n",
       "860                     0.0                  0.0                    0.0   \n",
       "15824                   0.0                  0.0                    0.0   \n",
       "\n",
       "       train_platform_YOVILJN  train_platform_YOVILPM  train_platform_YRDLYWD  \\\n",
       "26369                     0.0                     0.0                     0.0   \n",
       "18536                     0.0                     0.0                     0.0   \n",
       "7082                      0.0                     0.0                     0.0   \n",
       "25046                     0.0                     0.0                     0.0   \n",
       "29044                     0.0                     0.0                     0.0   \n",
       "...                       ...                     ...                     ...   \n",
       "16880                     0.0                     0.0                     0.0   \n",
       "6277                      0.0                     0.0                     0.0   \n",
       "11303                     0.0                     0.0                     0.0   \n",
       "860                       0.0                     0.0                     0.0   \n",
       "15824                     0.0                     0.0                     0.0   \n",
       "\n",
       "       train_platform_YSTRADM  train_platform_YTMNSTR  train_platform_YTRHOND  \n",
       "26369                     0.0                     0.0                     0.0  \n",
       "18536                     0.0                     0.0                     0.0  \n",
       "7082                      0.0                     0.0                     0.0  \n",
       "25046                     0.0                     0.0                     0.0  \n",
       "29044                     0.0                     0.0                     0.0  \n",
       "...                       ...                     ...                     ...  \n",
       "16880                     0.0                     0.0                     0.0  \n",
       "6277                      0.0                     0.0                     0.0  \n",
       "11303                     0.0                     0.0                     0.0  \n",
       "860                       0.0                     0.0                     0.0  \n",
       "15824                     0.0                     0.0                     0.0  \n",
       "\n",
       "[16476 rows x 2267 columns]"
      ]
     },
     "execution_count": 28,
     "metadata": {},
     "output_type": "execute_result"
    }
   ],
   "source": [
    "X_train"
   ]
  },
  {
   "cell_type": "code",
   "execution_count": 29,
   "id": "999d7d27-c3cd-410f-890f-c3b4fa5d508e",
   "metadata": {},
   "outputs": [
    {
     "data": {
      "text/html": [
       "<style>#sk-container-id-1 {color: black;}#sk-container-id-1 pre{padding: 0;}#sk-container-id-1 div.sk-toggleable {background-color: white;}#sk-container-id-1 label.sk-toggleable__label {cursor: pointer;display: block;width: 100%;margin-bottom: 0;padding: 0.3em;box-sizing: border-box;text-align: center;}#sk-container-id-1 label.sk-toggleable__label-arrow:before {content: \"▸\";float: left;margin-right: 0.25em;color: #696969;}#sk-container-id-1 label.sk-toggleable__label-arrow:hover:before {color: black;}#sk-container-id-1 div.sk-estimator:hover label.sk-toggleable__label-arrow:before {color: black;}#sk-container-id-1 div.sk-toggleable__content {max-height: 0;max-width: 0;overflow: hidden;text-align: left;background-color: #f0f8ff;}#sk-container-id-1 div.sk-toggleable__content pre {margin: 0.2em;color: black;border-radius: 0.25em;background-color: #f0f8ff;}#sk-container-id-1 input.sk-toggleable__control:checked~div.sk-toggleable__content {max-height: 200px;max-width: 100%;overflow: auto;}#sk-container-id-1 input.sk-toggleable__control:checked~label.sk-toggleable__label-arrow:before {content: \"▾\";}#sk-container-id-1 div.sk-estimator input.sk-toggleable__control:checked~label.sk-toggleable__label {background-color: #d4ebff;}#sk-container-id-1 div.sk-label input.sk-toggleable__control:checked~label.sk-toggleable__label {background-color: #d4ebff;}#sk-container-id-1 input.sk-hidden--visually {border: 0;clip: rect(1px 1px 1px 1px);clip: rect(1px, 1px, 1px, 1px);height: 1px;margin: -1px;overflow: hidden;padding: 0;position: absolute;width: 1px;}#sk-container-id-1 div.sk-estimator {font-family: monospace;background-color: #f0f8ff;border: 1px dotted black;border-radius: 0.25em;box-sizing: border-box;margin-bottom: 0.5em;}#sk-container-id-1 div.sk-estimator:hover {background-color: #d4ebff;}#sk-container-id-1 div.sk-parallel-item::after {content: \"\";width: 100%;border-bottom: 1px solid gray;flex-grow: 1;}#sk-container-id-1 div.sk-label:hover label.sk-toggleable__label {background-color: #d4ebff;}#sk-container-id-1 div.sk-serial::before {content: \"\";position: absolute;border-left: 1px solid gray;box-sizing: border-box;top: 0;bottom: 0;left: 50%;z-index: 0;}#sk-container-id-1 div.sk-serial {display: flex;flex-direction: column;align-items: center;background-color: white;padding-right: 0.2em;padding-left: 0.2em;position: relative;}#sk-container-id-1 div.sk-item {position: relative;z-index: 1;}#sk-container-id-1 div.sk-parallel {display: flex;align-items: stretch;justify-content: center;background-color: white;position: relative;}#sk-container-id-1 div.sk-item::before, #sk-container-id-1 div.sk-parallel-item::before {content: \"\";position: absolute;border-left: 1px solid gray;box-sizing: border-box;top: 0;bottom: 0;left: 50%;z-index: -1;}#sk-container-id-1 div.sk-parallel-item {display: flex;flex-direction: column;z-index: 1;position: relative;background-color: white;}#sk-container-id-1 div.sk-parallel-item:first-child::after {align-self: flex-end;width: 50%;}#sk-container-id-1 div.sk-parallel-item:last-child::after {align-self: flex-start;width: 50%;}#sk-container-id-1 div.sk-parallel-item:only-child::after {width: 0;}#sk-container-id-1 div.sk-dashed-wrapped {border: 1px dashed gray;margin: 0 0.4em 0.5em 0.4em;box-sizing: border-box;padding-bottom: 0.4em;background-color: white;}#sk-container-id-1 div.sk-label label {font-family: monospace;font-weight: bold;display: inline-block;line-height: 1.2em;}#sk-container-id-1 div.sk-label-container {text-align: center;}#sk-container-id-1 div.sk-container {/* jupyter's `normalize.less` sets `[hidden] { display: none; }` but bootstrap.min.css set `[hidden] { display: none !important; }` so we also need the `!important` here to be able to override the default hidden behavior on the sphinx rendered scikit-learn.org. See: https://github.com/scikit-learn/scikit-learn/issues/21755 */display: inline-block !important;position: relative;}#sk-container-id-1 div.sk-text-repr-fallback {display: none;}</style><div id=\"sk-container-id-1\" class=\"sk-top-container\"><div class=\"sk-text-repr-fallback\"><pre>LogisticRegression()</pre><b>In a Jupyter environment, please rerun this cell to show the HTML representation or trust the notebook. <br />On GitHub, the HTML representation is unable to render, please try loading this page with nbviewer.org.</b></div><div class=\"sk-container\" hidden><div class=\"sk-item\"><div class=\"sk-estimator sk-toggleable\"><input class=\"sk-toggleable__control sk-hidden--visually\" id=\"sk-estimator-id-1\" type=\"checkbox\" checked><label for=\"sk-estimator-id-1\" class=\"sk-toggleable__label sk-toggleable__label-arrow\">LogisticRegression</label><div class=\"sk-toggleable__content\"><pre>LogisticRegression()</pre></div></div></div></div></div>"
      ],
      "text/plain": [
       "LogisticRegression()"
      ]
     },
     "execution_count": 29,
     "metadata": {},
     "output_type": "execute_result"
    }
   ],
   "source": [
    "# Training the logistic regression model \n",
    "model = LogisticRegression() \n",
    "model.fit(X_train, y_train)"
   ]
  },
  {
   "cell_type": "code",
   "execution_count": 31,
   "id": "8a04c863-7188-4d07-8260-8f113122c1c5",
   "metadata": {},
   "outputs": [
    {
     "name": "stdout",
     "output_type": "stream",
     "text": [
      "Requirement already satisfied: scikit-learn in /opt/conda/lib/python3.11/site-packages (1.3.1)\n",
      "Requirement already satisfied: numpy<2.0,>=1.17.3 in /opt/conda/lib/python3.11/site-packages (from scikit-learn) (1.24.2)\n",
      "Requirement already satisfied: scipy>=1.5.0 in /opt/conda/lib/python3.11/site-packages (from scikit-learn) (1.11.3)\n",
      "Requirement already satisfied: joblib>=1.1.1 in /opt/conda/lib/python3.11/site-packages (from scikit-learn) (1.3.2)\n",
      "Requirement already satisfied: threadpoolctl>=2.0.0 in /opt/conda/lib/python3.11/site-packages (from scikit-learn) (3.2.0)\n",
      "\n",
      "\u001b[1m[\u001b[0m\u001b[34;49mnotice\u001b[0m\u001b[1;39;49m]\u001b[0m\u001b[39;49m A new release of pip is available: \u001b[0m\u001b[31;49m24.1.1\u001b[0m\u001b[39;49m -> \u001b[0m\u001b[32;49m24.1.2\u001b[0m\n",
      "\u001b[1m[\u001b[0m\u001b[34;49mnotice\u001b[0m\u001b[1;39;49m]\u001b[0m\u001b[39;49m To update, run: \u001b[0m\u001b[32;49mpip install --upgrade pip\u001b[0m\n",
      "Note: you may need to restart the kernel to use updated packages.\n"
     ]
    }
   ],
   "source": [
    "pip install scikit-learn\n"
   ]
  },
  {
   "cell_type": "code",
   "execution_count": 37,
   "id": "7024262e-a9b1-46cf-a65b-24544242c7d3",
   "metadata": {},
   "outputs": [
    {
     "data": {
      "text/plain": [
       "0.9820344743869871"
      ]
     },
     "execution_count": 37,
     "metadata": {},
     "output_type": "execute_result"
    }
   ],
   "source": [
    "from sklearn.metrics import accuracy_score, classification_report, confusion_matrix\n",
    "y_pred = model.predict(X_test)\n",
    "accuracy_score(y_test, y_pred)"
   ]
  },
  {
   "cell_type": "code",
   "execution_count": 35,
   "id": "2b9a3225-5e45-465a-90f9-869fe1773bbb",
   "metadata": {},
   "outputs": [
    {
     "name": "stdout",
     "output_type": "stream",
     "text": [
      "              precision    recall  f1-score   support\n",
      "\n",
      "         0.0       0.98      1.00      0.99     16180\n",
      "         1.0       0.00      0.00      0.00       296\n",
      "\n",
      "    accuracy                           0.98     16476\n",
      "   macro avg       0.49      0.50      0.50     16476\n",
      "weighted avg       0.96      0.98      0.97     16476\n",
      "\n"
     ]
    },
    {
     "name": "stderr",
     "output_type": "stream",
     "text": [
      "/opt/conda/lib/python3.11/site-packages/sklearn/metrics/_classification.py:1469: UndefinedMetricWarning: Precision and F-score are ill-defined and being set to 0.0 in labels with no predicted samples. Use `zero_division` parameter to control this behavior.\n",
      "  _warn_prf(average, modifier, msg_start, len(result))\n",
      "/opt/conda/lib/python3.11/site-packages/sklearn/metrics/_classification.py:1469: UndefinedMetricWarning: Precision and F-score are ill-defined and being set to 0.0 in labels with no predicted samples. Use `zero_division` parameter to control this behavior.\n",
      "  _warn_prf(average, modifier, msg_start, len(result))\n",
      "/opt/conda/lib/python3.11/site-packages/sklearn/metrics/_classification.py:1469: UndefinedMetricWarning: Precision and F-score are ill-defined and being set to 0.0 in labels with no predicted samples. Use `zero_division` parameter to control this behavior.\n",
      "  _warn_prf(average, modifier, msg_start, len(result))\n"
     ]
    }
   ],
   "source": [
    "print(classification_report(y_test, y_pred))\n"
   ]
  },
  {
   "cell_type": "markdown",
   "id": "cf632593-c125-4253-8312-8018b7e6ac14",
   "metadata": {},
   "source": [
    "Can we predict if there's going to be a delay based on the hour of the day?"
   ]
  },
  {
   "cell_type": "code",
   "execution_count": 41,
   "id": "e0c127f5-19b4-4fda-841e-3543f5d00f09",
   "metadata": {},
   "outputs": [
    {
     "data": {
      "image/png": "[encoded data removed]",
      "text/plain": [
       "<Figure size 800x600 with 2 Axes>"
      ]
     },
     "metadata": {},
     "output_type": "display_data"
    }
   ],
   "source": [
    "cm = confusion_matrix(y_test, y_pred)\n",
    "\n",
    "\n",
    "plt.figure(figsize=(8, 6))\n",
    "sns.heatmap(cm, annot=True, fmt='d', xticklabels=['No Delay', 'Delay'], yticklabels=['No Delay', 'Delay'])\n",
    "plt.xlabel('Predicted')\n",
    "plt.ylabel('Actual')\n",
    "plt.title('Confusion Matrix')\n",
    "plt.show()"
   ]
  },
  {
   "cell_type": "code",
   "execution_count": 46,
   "id": "5e0a0790-6ded-4ba9-b3f0-c7392aea20ef",
   "metadata": {},
   "outputs": [
    {
     "name": "stdout",
     "output_type": "stream",
     "text": [
      "route_id                          object\n",
      "unique_id                         object\n",
      "service_start_date                object\n",
      "update_origin                     object\n",
      "train_platform                    object\n",
      "working_time_pass         datetime64[ns]\n",
      "working_time_arrival      datetime64[ns]\n",
      "working_time_departure    datetime64[ns]\n",
      "planned_time_arrival      datetime64[ns]\n",
      "planned_time_departure    datetime64[ns]\n",
      "pass                             float64\n",
      "platform                          object\n",
      "train_length                      object\n",
      "actual_arrival_time       datetime64[ns]\n",
      "actual_departure_time     datetime64[ns]\n",
      "is_delayed_arrival                  bool\n",
      "__index_level_0__                  int64\n",
      "AtcoCode                          object\n",
      "TiplocCode                        object\n",
      "CrsCode                           object\n",
      "StationName                       object\n",
      "StationNameLang                   object\n",
      "GridType                          object\n",
      "Easting                          float64\n",
      "Northing                         float64\n",
      "CreationDateTime          datetime64[ns]\n",
      "ModificationDateTime      datetime64[ns]\n",
      "RevisionNumber                   float64\n",
      "Modification                      object\n",
      "planned_arrival_date              object\n",
      "planned_arrival_hour             float64\n",
      "planned_dep_date                  object\n",
      "planned_dep_hour                   int32\n",
      "actual_arrival_date               object\n",
      "actual_arrival_hour              float64\n",
      "actual_dep_date                   object\n",
      "actual_dep_hour                  float64\n",
      "day_of_week                       object\n",
      "dtype: object\n"
     ]
    }
   ],
   "source": [
    "print(X_train_reg.dtypes)\n"
   ]
  },
  {
   "cell_type": "code",
   "execution_count": 45,
   "id": "f9e2df93-51e5-43d1-868e-237434648613",
   "metadata": {},
   "outputs": [
    {
     "ename": "ValueError",
     "evalue": "could not convert string to float: 'W26189'",
     "output_type": "error",
     "traceback": [
      "\u001b[0;31m---------------------------------------------------------------------------\u001b[0m",
      "\u001b[0;31mValueError\u001b[0m                                Traceback (most recent call last)",
      "Cell \u001b[0;32mIn[45], line 12\u001b[0m\n\u001b[1;32m     10\u001b[0m \u001b[38;5;66;03m# Initialize and train the linear regression model\u001b[39;00m\n\u001b[1;32m     11\u001b[0m reg \u001b[38;5;241m=\u001b[39m LinearRegression()\n\u001b[0;32m---> 12\u001b[0m \u001b[43mreg\u001b[49m\u001b[38;5;241;43m.\u001b[39;49m\u001b[43mfit\u001b[49m\u001b[43m(\u001b[49m\u001b[43mX_train_reg\u001b[49m\u001b[43m,\u001b[49m\u001b[43m \u001b[49m\u001b[43my_train_reg\u001b[49m\u001b[43m)\u001b[49m\n\u001b[1;32m     14\u001b[0m \u001b[38;5;66;03m# Make predictions on the test set for regression\u001b[39;00m\n\u001b[1;32m     15\u001b[0m y_pred_reg \u001b[38;5;241m=\u001b[39m reg\u001b[38;5;241m.\u001b[39mpredict(X_test_reg)\n",
      "File \u001b[0;32m/opt/conda/lib/python3.11/site-packages/sklearn/base.py:1152\u001b[0m, in \u001b[0;36m_fit_context.<locals>.decorator.<locals>.wrapper\u001b[0;34m(estimator, *args, **kwargs)\u001b[0m\n\u001b[1;32m   1145\u001b[0m     estimator\u001b[38;5;241m.\u001b[39m_validate_params()\n\u001b[1;32m   1147\u001b[0m \u001b[38;5;28;01mwith\u001b[39;00m config_context(\n\u001b[1;32m   1148\u001b[0m     skip_parameter_validation\u001b[38;5;241m=\u001b[39m(\n\u001b[1;32m   1149\u001b[0m         prefer_skip_nested_validation \u001b[38;5;129;01mor\u001b[39;00m global_skip_validation\n\u001b[1;32m   1150\u001b[0m     )\n\u001b[1;32m   1151\u001b[0m ):\n\u001b[0;32m-> 1152\u001b[0m     \u001b[38;5;28;01mreturn\u001b[39;00m \u001b[43mfit_method\u001b[49m\u001b[43m(\u001b[49m\u001b[43mestimator\u001b[49m\u001b[43m,\u001b[49m\u001b[43m \u001b[49m\u001b[38;5;241;43m*\u001b[39;49m\u001b[43margs\u001b[49m\u001b[43m,\u001b[49m\u001b[43m \u001b[49m\u001b[38;5;241;43m*\u001b[39;49m\u001b[38;5;241;43m*\u001b[39;49m\u001b[43mkwargs\u001b[49m\u001b[43m)\u001b[49m\n",
      "File \u001b[0;32m/opt/conda/lib/python3.11/site-packages/sklearn/linear_model/_base.py:678\u001b[0m, in \u001b[0;36mLinearRegression.fit\u001b[0;34m(self, X, y, sample_weight)\u001b[0m\n\u001b[1;32m    674\u001b[0m n_jobs_ \u001b[38;5;241m=\u001b[39m \u001b[38;5;28mself\u001b[39m\u001b[38;5;241m.\u001b[39mn_jobs\n\u001b[1;32m    676\u001b[0m accept_sparse \u001b[38;5;241m=\u001b[39m \u001b[38;5;28;01mFalse\u001b[39;00m \u001b[38;5;28;01mif\u001b[39;00m \u001b[38;5;28mself\u001b[39m\u001b[38;5;241m.\u001b[39mpositive \u001b[38;5;28;01melse\u001b[39;00m [\u001b[38;5;124m\"\u001b[39m\u001b[38;5;124mcsr\u001b[39m\u001b[38;5;124m\"\u001b[39m, \u001b[38;5;124m\"\u001b[39m\u001b[38;5;124mcsc\u001b[39m\u001b[38;5;124m\"\u001b[39m, \u001b[38;5;124m\"\u001b[39m\u001b[38;5;124mcoo\u001b[39m\u001b[38;5;124m\"\u001b[39m]\n\u001b[0;32m--> 678\u001b[0m X, y \u001b[38;5;241m=\u001b[39m \u001b[38;5;28;43mself\u001b[39;49m\u001b[38;5;241;43m.\u001b[39;49m\u001b[43m_validate_data\u001b[49m\u001b[43m(\u001b[49m\n\u001b[1;32m    679\u001b[0m \u001b[43m    \u001b[49m\u001b[43mX\u001b[49m\u001b[43m,\u001b[49m\u001b[43m \u001b[49m\u001b[43my\u001b[49m\u001b[43m,\u001b[49m\u001b[43m \u001b[49m\u001b[43maccept_sparse\u001b[49m\u001b[38;5;241;43m=\u001b[39;49m\u001b[43maccept_sparse\u001b[49m\u001b[43m,\u001b[49m\u001b[43m \u001b[49m\u001b[43my_numeric\u001b[49m\u001b[38;5;241;43m=\u001b[39;49m\u001b[38;5;28;43;01mTrue\u001b[39;49;00m\u001b[43m,\u001b[49m\u001b[43m \u001b[49m\u001b[43mmulti_output\u001b[49m\u001b[38;5;241;43m=\u001b[39;49m\u001b[38;5;28;43;01mTrue\u001b[39;49;00m\n\u001b[1;32m    680\u001b[0m \u001b[43m\u001b[49m\u001b[43m)\u001b[49m\n\u001b[1;32m    682\u001b[0m has_sw \u001b[38;5;241m=\u001b[39m sample_weight \u001b[38;5;129;01mis\u001b[39;00m \u001b[38;5;129;01mnot\u001b[39;00m \u001b[38;5;28;01mNone\u001b[39;00m\n\u001b[1;32m    683\u001b[0m \u001b[38;5;28;01mif\u001b[39;00m has_sw:\n",
      "File \u001b[0;32m/opt/conda/lib/python3.11/site-packages/sklearn/base.py:622\u001b[0m, in \u001b[0;36mBaseEstimator._validate_data\u001b[0;34m(self, X, y, reset, validate_separately, cast_to_ndarray, **check_params)\u001b[0m\n\u001b[1;32m    620\u001b[0m         y \u001b[38;5;241m=\u001b[39m check_array(y, input_name\u001b[38;5;241m=\u001b[39m\u001b[38;5;124m\"\u001b[39m\u001b[38;5;124my\u001b[39m\u001b[38;5;124m\"\u001b[39m, \u001b[38;5;241m*\u001b[39m\u001b[38;5;241m*\u001b[39mcheck_y_params)\n\u001b[1;32m    621\u001b[0m     \u001b[38;5;28;01melse\u001b[39;00m:\n\u001b[0;32m--> 622\u001b[0m         X, y \u001b[38;5;241m=\u001b[39m \u001b[43mcheck_X_y\u001b[49m\u001b[43m(\u001b[49m\u001b[43mX\u001b[49m\u001b[43m,\u001b[49m\u001b[43m \u001b[49m\u001b[43my\u001b[49m\u001b[43m,\u001b[49m\u001b[43m \u001b[49m\u001b[38;5;241;43m*\u001b[39;49m\u001b[38;5;241;43m*\u001b[39;49m\u001b[43mcheck_params\u001b[49m\u001b[43m)\u001b[49m\n\u001b[1;32m    623\u001b[0m     out \u001b[38;5;241m=\u001b[39m X, y\n\u001b[1;32m    625\u001b[0m \u001b[38;5;28;01mif\u001b[39;00m \u001b[38;5;129;01mnot\u001b[39;00m no_val_X \u001b[38;5;129;01mand\u001b[39;00m check_params\u001b[38;5;241m.\u001b[39mget(\u001b[38;5;124m\"\u001b[39m\u001b[38;5;124mensure_2d\u001b[39m\u001b[38;5;124m\"\u001b[39m, \u001b[38;5;28;01mTrue\u001b[39;00m):\n",
      "File \u001b[0;32m/opt/conda/lib/python3.11/site-packages/sklearn/utils/validation.py:1146\u001b[0m, in \u001b[0;36mcheck_X_y\u001b[0;34m(X, y, accept_sparse, accept_large_sparse, dtype, order, copy, force_all_finite, ensure_2d, allow_nd, multi_output, ensure_min_samples, ensure_min_features, y_numeric, estimator)\u001b[0m\n\u001b[1;32m   1141\u001b[0m         estimator_name \u001b[38;5;241m=\u001b[39m _check_estimator_name(estimator)\n\u001b[1;32m   1142\u001b[0m     \u001b[38;5;28;01mraise\u001b[39;00m \u001b[38;5;167;01mValueError\u001b[39;00m(\n\u001b[1;32m   1143\u001b[0m         \u001b[38;5;124mf\u001b[39m\u001b[38;5;124m\"\u001b[39m\u001b[38;5;132;01m{\u001b[39;00mestimator_name\u001b[38;5;132;01m}\u001b[39;00m\u001b[38;5;124m requires y to be passed, but the target y is None\u001b[39m\u001b[38;5;124m\"\u001b[39m\n\u001b[1;32m   1144\u001b[0m     )\n\u001b[0;32m-> 1146\u001b[0m X \u001b[38;5;241m=\u001b[39m \u001b[43mcheck_array\u001b[49m\u001b[43m(\u001b[49m\n\u001b[1;32m   1147\u001b[0m \u001b[43m    \u001b[49m\u001b[43mX\u001b[49m\u001b[43m,\u001b[49m\n\u001b[1;32m   1148\u001b[0m \u001b[43m    \u001b[49m\u001b[43maccept_sparse\u001b[49m\u001b[38;5;241;43m=\u001b[39;49m\u001b[43maccept_sparse\u001b[49m\u001b[43m,\u001b[49m\n\u001b[1;32m   1149\u001b[0m \u001b[43m    \u001b[49m\u001b[43maccept_large_sparse\u001b[49m\u001b[38;5;241;43m=\u001b[39;49m\u001b[43maccept_large_sparse\u001b[49m\u001b[43m,\u001b[49m\n\u001b[1;32m   1150\u001b[0m \u001b[43m    \u001b[49m\u001b[43mdtype\u001b[49m\u001b[38;5;241;43m=\u001b[39;49m\u001b[43mdtype\u001b[49m\u001b[43m,\u001b[49m\n\u001b[1;32m   1151\u001b[0m \u001b[43m    \u001b[49m\u001b[43morder\u001b[49m\u001b[38;5;241;43m=\u001b[39;49m\u001b[43morder\u001b[49m\u001b[43m,\u001b[49m\n\u001b[1;32m   1152\u001b[0m \u001b[43m    \u001b[49m\u001b[43mcopy\u001b[49m\u001b[38;5;241;43m=\u001b[39;49m\u001b[43mcopy\u001b[49m\u001b[43m,\u001b[49m\n\u001b[1;32m   1153\u001b[0m \u001b[43m    \u001b[49m\u001b[43mforce_all_finite\u001b[49m\u001b[38;5;241;43m=\u001b[39;49m\u001b[43mforce_all_finite\u001b[49m\u001b[43m,\u001b[49m\n\u001b[1;32m   1154\u001b[0m \u001b[43m    \u001b[49m\u001b[43mensure_2d\u001b[49m\u001b[38;5;241;43m=\u001b[39;49m\u001b[43mensure_2d\u001b[49m\u001b[43m,\u001b[49m\n\u001b[1;32m   1155\u001b[0m \u001b[43m    \u001b[49m\u001b[43mallow_nd\u001b[49m\u001b[38;5;241;43m=\u001b[39;49m\u001b[43mallow_nd\u001b[49m\u001b[43m,\u001b[49m\n\u001b[1;32m   1156\u001b[0m \u001b[43m    \u001b[49m\u001b[43mensure_min_samples\u001b[49m\u001b[38;5;241;43m=\u001b[39;49m\u001b[43mensure_min_samples\u001b[49m\u001b[43m,\u001b[49m\n\u001b[1;32m   1157\u001b[0m \u001b[43m    \u001b[49m\u001b[43mensure_min_features\u001b[49m\u001b[38;5;241;43m=\u001b[39;49m\u001b[43mensure_min_features\u001b[49m\u001b[43m,\u001b[49m\n\u001b[1;32m   1158\u001b[0m \u001b[43m    \u001b[49m\u001b[43mestimator\u001b[49m\u001b[38;5;241;43m=\u001b[39;49m\u001b[43mestimator\u001b[49m\u001b[43m,\u001b[49m\n\u001b[1;32m   1159\u001b[0m \u001b[43m    \u001b[49m\u001b[43minput_name\u001b[49m\u001b[38;5;241;43m=\u001b[39;49m\u001b[38;5;124;43m\"\u001b[39;49m\u001b[38;5;124;43mX\u001b[39;49m\u001b[38;5;124;43m\"\u001b[39;49m\u001b[43m,\u001b[49m\n\u001b[1;32m   1160\u001b[0m \u001b[43m\u001b[49m\u001b[43m)\u001b[49m\n\u001b[1;32m   1162\u001b[0m y \u001b[38;5;241m=\u001b[39m _check_y(y, multi_output\u001b[38;5;241m=\u001b[39mmulti_output, y_numeric\u001b[38;5;241m=\u001b[39my_numeric, estimator\u001b[38;5;241m=\u001b[39mestimator)\n\u001b[1;32m   1164\u001b[0m check_consistent_length(X, y)\n",
      "File \u001b[0;32m/opt/conda/lib/python3.11/site-packages/sklearn/utils/validation.py:836\u001b[0m, in \u001b[0;36mcheck_array\u001b[0;34m(array, accept_sparse, accept_large_sparse, dtype, order, copy, force_all_finite, ensure_2d, allow_nd, ensure_min_samples, ensure_min_features, estimator, input_name)\u001b[0m\n\u001b[1;32m    831\u001b[0m \u001b[38;5;28;01mif\u001b[39;00m pandas_requires_conversion:\n\u001b[1;32m    832\u001b[0m     \u001b[38;5;66;03m# pandas dataframe requires conversion earlier to handle extension dtypes with\u001b[39;00m\n\u001b[1;32m    833\u001b[0m     \u001b[38;5;66;03m# nans\u001b[39;00m\n\u001b[1;32m    834\u001b[0m     \u001b[38;5;66;03m# Use the original dtype for conversion if dtype is None\u001b[39;00m\n\u001b[1;32m    835\u001b[0m     new_dtype \u001b[38;5;241m=\u001b[39m dtype_orig \u001b[38;5;28;01mif\u001b[39;00m dtype \u001b[38;5;129;01mis\u001b[39;00m \u001b[38;5;28;01mNone\u001b[39;00m \u001b[38;5;28;01melse\u001b[39;00m dtype\n\u001b[0;32m--> 836\u001b[0m     array \u001b[38;5;241m=\u001b[39m \u001b[43marray\u001b[49m\u001b[38;5;241;43m.\u001b[39;49m\u001b[43mastype\u001b[49m\u001b[43m(\u001b[49m\u001b[43mnew_dtype\u001b[49m\u001b[43m)\u001b[49m\n\u001b[1;32m    837\u001b[0m     \u001b[38;5;66;03m# Since we converted here, we do not need to convert again later\u001b[39;00m\n\u001b[1;32m    838\u001b[0m     dtype \u001b[38;5;241m=\u001b[39m \u001b[38;5;28;01mNone\u001b[39;00m\n",
      "File \u001b[0;32m/opt/conda/lib/python3.11/site-packages/pandas/core/generic.py:6240\u001b[0m, in \u001b[0;36mNDFrame.astype\u001b[0;34m(self, dtype, copy, errors)\u001b[0m\n\u001b[1;32m   6233\u001b[0m     results \u001b[38;5;241m=\u001b[39m [\n\u001b[1;32m   6234\u001b[0m         \u001b[38;5;28mself\u001b[39m\u001b[38;5;241m.\u001b[39miloc[:, i]\u001b[38;5;241m.\u001b[39mastype(dtype, copy\u001b[38;5;241m=\u001b[39mcopy)\n\u001b[1;32m   6235\u001b[0m         \u001b[38;5;28;01mfor\u001b[39;00m i \u001b[38;5;129;01min\u001b[39;00m \u001b[38;5;28mrange\u001b[39m(\u001b[38;5;28mlen\u001b[39m(\u001b[38;5;28mself\u001b[39m\u001b[38;5;241m.\u001b[39mcolumns))\n\u001b[1;32m   6236\u001b[0m     ]\n\u001b[1;32m   6238\u001b[0m \u001b[38;5;28;01melse\u001b[39;00m:\n\u001b[1;32m   6239\u001b[0m     \u001b[38;5;66;03m# else, only a single dtype is given\u001b[39;00m\n\u001b[0;32m-> 6240\u001b[0m     new_data \u001b[38;5;241m=\u001b[39m \u001b[38;5;28;43mself\u001b[39;49m\u001b[38;5;241;43m.\u001b[39;49m\u001b[43m_mgr\u001b[49m\u001b[38;5;241;43m.\u001b[39;49m\u001b[43mastype\u001b[49m\u001b[43m(\u001b[49m\u001b[43mdtype\u001b[49m\u001b[38;5;241;43m=\u001b[39;49m\u001b[43mdtype\u001b[49m\u001b[43m,\u001b[49m\u001b[43m \u001b[49m\u001b[43mcopy\u001b[49m\u001b[38;5;241;43m=\u001b[39;49m\u001b[43mcopy\u001b[49m\u001b[43m,\u001b[49m\u001b[43m \u001b[49m\u001b[43merrors\u001b[49m\u001b[38;5;241;43m=\u001b[39;49m\u001b[43merrors\u001b[49m\u001b[43m)\u001b[49m\n\u001b[1;32m   6241\u001b[0m     \u001b[38;5;28;01mreturn\u001b[39;00m \u001b[38;5;28mself\u001b[39m\u001b[38;5;241m.\u001b[39m_constructor(new_data)\u001b[38;5;241m.\u001b[39m__finalize__(\u001b[38;5;28mself\u001b[39m, method\u001b[38;5;241m=\u001b[39m\u001b[38;5;124m\"\u001b[39m\u001b[38;5;124mastype\u001b[39m\u001b[38;5;124m\"\u001b[39m)\n\u001b[1;32m   6243\u001b[0m \u001b[38;5;66;03m# GH 33113: handle empty frame or series\u001b[39;00m\n",
      "File \u001b[0;32m/opt/conda/lib/python3.11/site-packages/pandas/core/internals/managers.py:448\u001b[0m, in \u001b[0;36mBaseBlockManager.astype\u001b[0;34m(self, dtype, copy, errors)\u001b[0m\n\u001b[1;32m    447\u001b[0m \u001b[38;5;28;01mdef\u001b[39;00m \u001b[38;5;21mastype\u001b[39m(\u001b[38;5;28mself\u001b[39m: T, dtype, copy: \u001b[38;5;28mbool\u001b[39m \u001b[38;5;241m=\u001b[39m \u001b[38;5;28;01mFalse\u001b[39;00m, errors: \u001b[38;5;28mstr\u001b[39m \u001b[38;5;241m=\u001b[39m \u001b[38;5;124m\"\u001b[39m\u001b[38;5;124mraise\u001b[39m\u001b[38;5;124m\"\u001b[39m) \u001b[38;5;241m-\u001b[39m\u001b[38;5;241m>\u001b[39m T:\n\u001b[0;32m--> 448\u001b[0m     \u001b[38;5;28;01mreturn\u001b[39;00m \u001b[38;5;28;43mself\u001b[39;49m\u001b[38;5;241;43m.\u001b[39;49m\u001b[43mapply\u001b[49m\u001b[43m(\u001b[49m\u001b[38;5;124;43m\"\u001b[39;49m\u001b[38;5;124;43mastype\u001b[39;49m\u001b[38;5;124;43m\"\u001b[39;49m\u001b[43m,\u001b[49m\u001b[43m \u001b[49m\u001b[43mdtype\u001b[49m\u001b[38;5;241;43m=\u001b[39;49m\u001b[43mdtype\u001b[49m\u001b[43m,\u001b[49m\u001b[43m \u001b[49m\u001b[43mcopy\u001b[49m\u001b[38;5;241;43m=\u001b[39;49m\u001b[43mcopy\u001b[49m\u001b[43m,\u001b[49m\u001b[43m \u001b[49m\u001b[43merrors\u001b[49m\u001b[38;5;241;43m=\u001b[39;49m\u001b[43merrors\u001b[49m\u001b[43m)\u001b[49m\n",
      "File \u001b[0;32m/opt/conda/lib/python3.11/site-packages/pandas/core/internals/managers.py:352\u001b[0m, in \u001b[0;36mBaseBlockManager.apply\u001b[0;34m(self, f, align_keys, ignore_failures, **kwargs)\u001b[0m\n\u001b[1;32m    350\u001b[0m         applied \u001b[38;5;241m=\u001b[39m b\u001b[38;5;241m.\u001b[39mapply(f, \u001b[38;5;241m*\u001b[39m\u001b[38;5;241m*\u001b[39mkwargs)\n\u001b[1;32m    351\u001b[0m     \u001b[38;5;28;01melse\u001b[39;00m:\n\u001b[0;32m--> 352\u001b[0m         applied \u001b[38;5;241m=\u001b[39m \u001b[38;5;28;43mgetattr\u001b[39;49m\u001b[43m(\u001b[49m\u001b[43mb\u001b[49m\u001b[43m,\u001b[49m\u001b[43m \u001b[49m\u001b[43mf\u001b[49m\u001b[43m)\u001b[49m\u001b[43m(\u001b[49m\u001b[38;5;241;43m*\u001b[39;49m\u001b[38;5;241;43m*\u001b[39;49m\u001b[43mkwargs\u001b[49m\u001b[43m)\u001b[49m\n\u001b[1;32m    353\u001b[0m \u001b[38;5;28;01mexcept\u001b[39;00m (\u001b[38;5;167;01mTypeError\u001b[39;00m, \u001b[38;5;167;01mNotImplementedError\u001b[39;00m):\n\u001b[1;32m    354\u001b[0m     \u001b[38;5;28;01mif\u001b[39;00m \u001b[38;5;129;01mnot\u001b[39;00m ignore_failures:\n",
      "File \u001b[0;32m/opt/conda/lib/python3.11/site-packages/pandas/core/internals/blocks.py:526\u001b[0m, in \u001b[0;36mBlock.astype\u001b[0;34m(self, dtype, copy, errors)\u001b[0m\n\u001b[1;32m    508\u001b[0m \u001b[38;5;250m\u001b[39m\u001b[38;5;124;03m\"\"\"\u001b[39;00m\n\u001b[1;32m    509\u001b[0m \u001b[38;5;124;03mCoerce to the new dtype.\u001b[39;00m\n\u001b[1;32m    510\u001b[0m \n\u001b[0;32m   (...)\u001b[0m\n\u001b[1;32m    522\u001b[0m \u001b[38;5;124;03mBlock\u001b[39;00m\n\u001b[1;32m    523\u001b[0m \u001b[38;5;124;03m\"\"\"\u001b[39;00m\n\u001b[1;32m    524\u001b[0m values \u001b[38;5;241m=\u001b[39m \u001b[38;5;28mself\u001b[39m\u001b[38;5;241m.\u001b[39mvalues\n\u001b[0;32m--> 526\u001b[0m new_values \u001b[38;5;241m=\u001b[39m \u001b[43mastype_array_safe\u001b[49m\u001b[43m(\u001b[49m\u001b[43mvalues\u001b[49m\u001b[43m,\u001b[49m\u001b[43m \u001b[49m\u001b[43mdtype\u001b[49m\u001b[43m,\u001b[49m\u001b[43m \u001b[49m\u001b[43mcopy\u001b[49m\u001b[38;5;241;43m=\u001b[39;49m\u001b[43mcopy\u001b[49m\u001b[43m,\u001b[49m\u001b[43m \u001b[49m\u001b[43merrors\u001b[49m\u001b[38;5;241;43m=\u001b[39;49m\u001b[43merrors\u001b[49m\u001b[43m)\u001b[49m\n\u001b[1;32m    528\u001b[0m new_values \u001b[38;5;241m=\u001b[39m maybe_coerce_values(new_values)\n\u001b[1;32m    529\u001b[0m newb \u001b[38;5;241m=\u001b[39m \u001b[38;5;28mself\u001b[39m\u001b[38;5;241m.\u001b[39mmake_block(new_values)\n",
      "File \u001b[0;32m/opt/conda/lib/python3.11/site-packages/pandas/core/dtypes/astype.py:299\u001b[0m, in \u001b[0;36mastype_array_safe\u001b[0;34m(values, dtype, copy, errors)\u001b[0m\n\u001b[1;32m    296\u001b[0m     \u001b[38;5;28;01mreturn\u001b[39;00m values\u001b[38;5;241m.\u001b[39mcopy()\n\u001b[1;32m    298\u001b[0m \u001b[38;5;28;01mtry\u001b[39;00m:\n\u001b[0;32m--> 299\u001b[0m     new_values \u001b[38;5;241m=\u001b[39m \u001b[43mastype_array\u001b[49m\u001b[43m(\u001b[49m\u001b[43mvalues\u001b[49m\u001b[43m,\u001b[49m\u001b[43m \u001b[49m\u001b[43mdtype\u001b[49m\u001b[43m,\u001b[49m\u001b[43m \u001b[49m\u001b[43mcopy\u001b[49m\u001b[38;5;241;43m=\u001b[39;49m\u001b[43mcopy\u001b[49m\u001b[43m)\u001b[49m\n\u001b[1;32m    300\u001b[0m \u001b[38;5;28;01mexcept\u001b[39;00m (\u001b[38;5;167;01mValueError\u001b[39;00m, \u001b[38;5;167;01mTypeError\u001b[39;00m):\n\u001b[1;32m    301\u001b[0m     \u001b[38;5;66;03m# e.g. astype_nansafe can fail on object-dtype of strings\u001b[39;00m\n\u001b[1;32m    302\u001b[0m     \u001b[38;5;66;03m#  trying to convert to float\u001b[39;00m\n\u001b[1;32m    303\u001b[0m     \u001b[38;5;28;01mif\u001b[39;00m errors \u001b[38;5;241m==\u001b[39m \u001b[38;5;124m\"\u001b[39m\u001b[38;5;124mignore\u001b[39m\u001b[38;5;124m\"\u001b[39m:\n",
      "File \u001b[0;32m/opt/conda/lib/python3.11/site-packages/pandas/core/dtypes/astype.py:230\u001b[0m, in \u001b[0;36mastype_array\u001b[0;34m(values, dtype, copy)\u001b[0m\n\u001b[1;32m    227\u001b[0m     values \u001b[38;5;241m=\u001b[39m values\u001b[38;5;241m.\u001b[39mastype(dtype, copy\u001b[38;5;241m=\u001b[39mcopy)\n\u001b[1;32m    229\u001b[0m \u001b[38;5;28;01melse\u001b[39;00m:\n\u001b[0;32m--> 230\u001b[0m     values \u001b[38;5;241m=\u001b[39m \u001b[43mastype_nansafe\u001b[49m\u001b[43m(\u001b[49m\u001b[43mvalues\u001b[49m\u001b[43m,\u001b[49m\u001b[43m \u001b[49m\u001b[43mdtype\u001b[49m\u001b[43m,\u001b[49m\u001b[43m \u001b[49m\u001b[43mcopy\u001b[49m\u001b[38;5;241;43m=\u001b[39;49m\u001b[43mcopy\u001b[49m\u001b[43m)\u001b[49m\n\u001b[1;32m    232\u001b[0m \u001b[38;5;66;03m# in pandas we don't store numpy str dtypes, so convert to object\u001b[39;00m\n\u001b[1;32m    233\u001b[0m \u001b[38;5;28;01mif\u001b[39;00m \u001b[38;5;28misinstance\u001b[39m(dtype, np\u001b[38;5;241m.\u001b[39mdtype) \u001b[38;5;129;01mand\u001b[39;00m \u001b[38;5;28missubclass\u001b[39m(values\u001b[38;5;241m.\u001b[39mdtype\u001b[38;5;241m.\u001b[39mtype, \u001b[38;5;28mstr\u001b[39m):\n",
      "File \u001b[0;32m/opt/conda/lib/python3.11/site-packages/pandas/core/dtypes/astype.py:170\u001b[0m, in \u001b[0;36mastype_nansafe\u001b[0;34m(arr, dtype, copy, skipna)\u001b[0m\n\u001b[1;32m    166\u001b[0m     \u001b[38;5;28;01mraise\u001b[39;00m \u001b[38;5;167;01mValueError\u001b[39;00m(msg)\n\u001b[1;32m    168\u001b[0m \u001b[38;5;28;01mif\u001b[39;00m copy \u001b[38;5;129;01mor\u001b[39;00m is_object_dtype(arr\u001b[38;5;241m.\u001b[39mdtype) \u001b[38;5;129;01mor\u001b[39;00m is_object_dtype(dtype):\n\u001b[1;32m    169\u001b[0m     \u001b[38;5;66;03m# Explicit copy, or required since NumPy can't view from / to object.\u001b[39;00m\n\u001b[0;32m--> 170\u001b[0m     \u001b[38;5;28;01mreturn\u001b[39;00m \u001b[43marr\u001b[49m\u001b[38;5;241;43m.\u001b[39;49m\u001b[43mastype\u001b[49m\u001b[43m(\u001b[49m\u001b[43mdtype\u001b[49m\u001b[43m,\u001b[49m\u001b[43m \u001b[49m\u001b[43mcopy\u001b[49m\u001b[38;5;241;43m=\u001b[39;49m\u001b[38;5;28;43;01mTrue\u001b[39;49;00m\u001b[43m)\u001b[49m\n\u001b[1;32m    172\u001b[0m \u001b[38;5;28;01mreturn\u001b[39;00m arr\u001b[38;5;241m.\u001b[39mastype(dtype, copy\u001b[38;5;241m=\u001b[39mcopy)\n",
      "\u001b[0;31mValueError\u001b[0m: could not convert string to float: 'W26189'"
     ]
    }
   ],
   "source": [
    "from sklearn.linear_model import LinearRegression\n",
    "\n",
    "# Select features and target for regression\n",
    "X_reg = pandas_df[pandas_df['is_delayed_departure'] == 1].drop(['is_delayed_departure', 'arrival_time_delayed_by', 'dep_time_delayed_by'], axis=1)\n",
    "y_reg = pandas_df[pandas_df['is_delayed_departure'] == 1]['dep_time_delayed_by']\n",
    "\n",
    "# Split the data into training and testing sets for regression\n",
    "X_train_reg, X_test_reg, y_train_reg, y_test_reg = train_test_split(X_reg, y_reg, test_size=0.5, random_state=42)\n",
    "\n",
    "# Initialize and train the linear regression model\n",
    "reg = LinearRegression()\n",
    "reg.fit(X_train_reg, y_train_reg)\n",
    "\n",
    "# Make predictions on the test set for regression\n",
    "y_pred_reg = reg.predict(X_test_reg)\n",
    "\n",
    "# Plot true vs predicted delay durations\n",
    "plt.figure(figsize=(8, 6))\n",
    "plt.scatter(y_test_reg, y_pred_reg)\n",
    "plt.xlabel('True Delay Duration')\n",
    "plt.ylabel('Predicted Delay Duration')\n",
    "plt.title('True vs Predicted Delay Duration')\n",
    "plt.plot([0, max(y_test_reg)], [0, max(y_pred_reg)], color='red', linestyle='--')\n",
    "plt.show()\n"
   ]
  },
  {
   "cell_type": "code",
   "execution_count": 48,
   "id": "6a81f4a8-237d-469c-b0ce-31117724170c",
   "metadata": {},
   "outputs": [],
   "source": [
    "pandas_df.to_csv('rail_data_eda.csv', index=False)"
   ]
  },
  {
   "cell_type": "code",
   "execution_count": null,
   "id": "ce4bdbf3-e6f6-4ffc-9af4-09dc2eb2b19a",
   "metadata": {},
   "outputs": [],
   "source": []
  }
 ],
 "metadata": {
  "kernelspec": {
   "display_name": "Python 3 (ipykernel)",
   "language": "python",
   "name": "python3"
  },
  "language_info": {
   "codemirror_mode": {
    "name": "ipython",
    "version": 3
   },
   "file_extension": ".py",
   "mimetype": "text/x-python",
   "name": "python",
   "nbconvert_exporter": "python",
   "pygments_lexer": "ipython3",
   "version": "3.11.6"
  }
 },
 "nbformat": 4,
 "nbformat_minor": 5
}
